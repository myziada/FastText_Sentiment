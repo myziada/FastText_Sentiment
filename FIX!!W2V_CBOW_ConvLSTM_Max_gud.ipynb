{
  "cells": [
    {
      "cell_type": "code",
      "execution_count": null,
      "metadata": {
        "colab": {
          "base_uri": "https://localhost:8080/"
        },
        "id": "-0t3p3gbYaQG",
        "outputId": "a05dc6e7-f315-4c8e-fb6e-453f0f832552"
      },
      "outputs": [
        {
          "name": "stdout",
          "output_type": "stream",
          "text": [
            "Looking in indexes: https://pypi.org/simple, https://us-python.pkg.dev/colab-wheels/public/simple/\n",
            "Requirement already satisfied: nltk in /usr/local/lib/python3.10/dist-packages (3.8.1)\n",
            "Requirement already satisfied: click in /usr/local/lib/python3.10/dist-packages (from nltk) (8.1.3)\n",
            "Requirement already satisfied: joblib in /usr/local/lib/python3.10/dist-packages (from nltk) (1.2.0)\n",
            "Requirement already satisfied: regex>=2021.8.3 in /usr/local/lib/python3.10/dist-packages (from nltk) (2022.10.31)\n",
            "Requirement already satisfied: tqdm in /usr/local/lib/python3.10/dist-packages (from nltk) (4.65.0)\n"
          ]
        }
      ],
      "source": [
        "pip install nltk"
      ]
    },
    {
      "cell_type": "code",
      "execution_count": null,
      "metadata": {
        "colab": {
          "base_uri": "https://localhost:8080/"
        },
        "id": "W7_8yB6_Ycdx",
        "outputId": "844a239d-ac10-4e1f-8316-12abcd249a74"
      },
      "outputs": [
        {
          "name": "stdout",
          "output_type": "stream",
          "text": [
            "Looking in indexes: https://pypi.org/simple, https://us-python.pkg.dev/colab-wheels/public/simple/\n",
            "Collecting Sastrawi\n",
            "  Downloading Sastrawi-1.0.1-py2.py3-none-any.whl (209 kB)\n",
            "\u001b[2K     \u001b[90m━━━━━━━━━━━━━━━━━━━━━━━━━━━━━━━━━━━━━━━\u001b[0m \u001b[32m209.7/209.7 kB\u001b[0m \u001b[31m4.8 MB/s\u001b[0m eta \u001b[36m0:00:00\u001b[0m\n",
            "\u001b[?25hInstalling collected packages: Sastrawi\n",
            "Successfully installed Sastrawi-1.0.1\n"
          ]
        }
      ],
      "source": [
        "pip install Sastrawi"
      ]
    },
    {
      "cell_type": "code",
      "execution_count": null,
      "metadata": {
        "id": "IH-ykqXy0OIr"
      },
      "outputs": [],
      "source": [
        "import pandas as pd\n",
        "from sklearn.model_selection import train_test_split\n"
      ]
    },
    {
      "cell_type": "code",
      "execution_count": null,
      "metadata": {
        "colab": {
          "base_uri": "https://localhost:8080/"
        },
        "id": "6X6y_T-9Ywg2",
        "outputId": "c5ef1a97-645b-4f0a-cff3-d0babe595fbb"
      },
      "outputs": [
        {
          "name": "stdout",
          "output_type": "stream",
          "text": [
            "Jumlah data training: 816\n",
            "Jumlah data testing: 204\n"
          ]
        }
      ],
      "source": [
        "import pandas as pd\n",
        "from sklearn.model_selection import train_test_split\n",
        "\n",
        "# Membaca file CSV\n",
        "df = pd.read_csv('1020DataNewABHeader.csv')\n",
        "\n",
        "# Membagi data menjadi data training dan data testing\n",
        "train_data, test_data = train_test_split(df, test_size=0.2, random_state=42)\n",
        "# test_size = 0.2 berarti 20% data akan digunakan untuk testing, sementara 80% digunakan untuk training\n",
        "# random_state digunakan untuk mengacak data\n",
        "\n",
        "# Menampilkan informasi jumlah data\n",
        "print('Jumlah data training:', len(train_data))\n",
        "print('Jumlah data testing:', len(test_data))\n"
      ]
    },
    {
      "cell_type": "code",
      "execution_count": null,
      "metadata": {
        "id": "7SP-ES68aVZE"
      },
      "outputs": [],
      "source": [
        "train_data, test_data = train_test_split(df, test_size=0.2, random_state=42)\n"
      ]
    },
    {
      "cell_type": "code",
      "execution_count": null,
      "metadata": {
        "colab": {
          "base_uri": "https://localhost:8080/",
          "height": 423
        },
        "id": "J42mIlKr0XW9",
        "outputId": "e3b5db64-fe43-4544-b89b-fbb972cdf155"
      },
      "outputs": [
        {
          "data": {
            "text/html": [
              "\n",
              "  <div id=\"df-fc86884b-3b7f-4bea-80f1-d3178ba9df15\">\n",
              "    <div class=\"colab-df-container\">\n",
              "      <div>\n",
              "<style scoped>\n",
              "    .dataframe tbody tr th:only-of-type {\n",
              "        vertical-align: middle;\n",
              "    }\n",
              "\n",
              "    .dataframe tbody tr th {\n",
              "        vertical-align: top;\n",
              "    }\n",
              "\n",
              "    .dataframe thead th {\n",
              "        text-align: right;\n",
              "    }\n",
              "</style>\n",
              "<table border=\"1\" class=\"dataframe\">\n",
              "  <thead>\n",
              "    <tr style=\"text-align: right;\">\n",
              "      <th></th>\n",
              "      <th>nomor</th>\n",
              "      <th>text</th>\n",
              "      <th>Label</th>\n",
              "    </tr>\n",
              "  </thead>\n",
              "  <tbody>\n",
              "    <tr>\n",
              "      <th>743</th>\n",
              "      <td>1640</td>\n",
              "      <td>sabar mungkin anak baru kita pantau saja dulu</td>\n",
              "      <td>Terkejut</td>\n",
              "    </tr>\n",
              "    <tr>\n",
              "      <th>137</th>\n",
              "      <td>2966</td>\n",
              "      <td>kan tidak suka olahraga dia lebih suka olah kata</td>\n",
              "      <td>Gembira</td>\n",
              "    </tr>\n",
              "    <tr>\n",
              "      <th>799</th>\n",
              "      <td>2693</td>\n",
              "      <td>insyalah pak anies presiden ri tahun dimampuka...</td>\n",
              "      <td>Terkejut</td>\n",
              "    </tr>\n",
              "    <tr>\n",
              "      <th>933</th>\n",
              "      <td>685</td>\n",
              "      <td>intelek aku merusak jalan cuma gnti nma jl rs ...</td>\n",
              "      <td>Takut</td>\n",
              "    </tr>\n",
              "    <tr>\n",
              "      <th>822</th>\n",
              "      <td>3182</td>\n",
              "      <td>mafia kelebihan bayar tuh brantas muka badak m...</td>\n",
              "      <td>Terkejut</td>\n",
              "    </tr>\n",
              "    <tr>\n",
              "      <th>...</th>\n",
              "      <td>...</td>\n",
              "      <td>...</td>\n",
              "      <td>...</td>\n",
              "    </tr>\n",
              "    <tr>\n",
              "      <th>106</th>\n",
              "      <td>2278</td>\n",
              "      <td>katanya nga suka foto foto nga suka bawa orang...</td>\n",
              "      <td>Gembira</td>\n",
              "    </tr>\n",
              "    <tr>\n",
              "      <th>270</th>\n",
              "      <td>376</td>\n",
              "      <td>pondok kobong kok belum dikunjungi pak</td>\n",
              "      <td>Sedih</td>\n",
              "    </tr>\n",
              "    <tr>\n",
              "      <th>860</th>\n",
              "      <td>59</td>\n",
              "      <td>dan enggak jujur ini yang bahaya</td>\n",
              "      <td>Takut</td>\n",
              "    </tr>\n",
              "    <tr>\n",
              "      <th>435</th>\n",
              "      <td>956</td>\n",
              "      <td>urus calon porno lho</td>\n",
              "      <td>Muak</td>\n",
              "    </tr>\n",
              "    <tr>\n",
              "      <th>102</th>\n",
              "      <td>2215</td>\n",
              "      <td>jangan salah persepsi dulu pak anies memang ti...</td>\n",
              "      <td>Gembira</td>\n",
              "    </tr>\n",
              "  </tbody>\n",
              "</table>\n",
              "<p>816 rows × 3 columns</p>\n",
              "</div>\n",
              "      <button class=\"colab-df-convert\" onclick=\"convertToInteractive('df-fc86884b-3b7f-4bea-80f1-d3178ba9df15')\"\n",
              "              title=\"Convert this dataframe to an interactive table.\"\n",
              "              style=\"display:none;\">\n",
              "        \n",
              "  <svg xmlns=\"http://www.w3.org/2000/svg\" height=\"24px\"viewBox=\"0 0 24 24\"\n",
              "       width=\"24px\">\n",
              "    <path d=\"M0 0h24v24H0V0z\" fill=\"none\"/>\n",
              "    <path d=\"M18.56 5.44l.94 2.06.94-2.06 2.06-.94-2.06-.94-.94-2.06-.94 2.06-2.06.94zm-11 1L8.5 8.5l.94-2.06 2.06-.94-2.06-.94L8.5 2.5l-.94 2.06-2.06.94zm10 10l.94 2.06.94-2.06 2.06-.94-2.06-.94-.94-2.06-.94 2.06-2.06.94z\"/><path d=\"M17.41 7.96l-1.37-1.37c-.4-.4-.92-.59-1.43-.59-.52 0-1.04.2-1.43.59L10.3 9.45l-7.72 7.72c-.78.78-.78 2.05 0 2.83L4 21.41c.39.39.9.59 1.41.59.51 0 1.02-.2 1.41-.59l7.78-7.78 2.81-2.81c.8-.78.8-2.07 0-2.86zM5.41 20L4 18.59l7.72-7.72 1.47 1.35L5.41 20z\"/>\n",
              "  </svg>\n",
              "      </button>\n",
              "      \n",
              "  <style>\n",
              "    .colab-df-container {\n",
              "      display:flex;\n",
              "      flex-wrap:wrap;\n",
              "      gap: 12px;\n",
              "    }\n",
              "\n",
              "    .colab-df-convert {\n",
              "      background-color: #E8F0FE;\n",
              "      border: none;\n",
              "      border-radius: 50%;\n",
              "      cursor: pointer;\n",
              "      display: none;\n",
              "      fill: #1967D2;\n",
              "      height: 32px;\n",
              "      padding: 0 0 0 0;\n",
              "      width: 32px;\n",
              "    }\n",
              "\n",
              "    .colab-df-convert:hover {\n",
              "      background-color: #E2EBFA;\n",
              "      box-shadow: 0px 1px 2px rgba(60, 64, 67, 0.3), 0px 1px 3px 1px rgba(60, 64, 67, 0.15);\n",
              "      fill: #174EA6;\n",
              "    }\n",
              "\n",
              "    [theme=dark] .colab-df-convert {\n",
              "      background-color: #3B4455;\n",
              "      fill: #D2E3FC;\n",
              "    }\n",
              "\n",
              "    [theme=dark] .colab-df-convert:hover {\n",
              "      background-color: #434B5C;\n",
              "      box-shadow: 0px 1px 3px 1px rgba(0, 0, 0, 0.15);\n",
              "      filter: drop-shadow(0px 1px 2px rgba(0, 0, 0, 0.3));\n",
              "      fill: #FFFFFF;\n",
              "    }\n",
              "  </style>\n",
              "\n",
              "      <script>\n",
              "        const buttonEl =\n",
              "          document.querySelector('#df-fc86884b-3b7f-4bea-80f1-d3178ba9df15 button.colab-df-convert');\n",
              "        buttonEl.style.display =\n",
              "          google.colab.kernel.accessAllowed ? 'block' : 'none';\n",
              "\n",
              "        async function convertToInteractive(key) {\n",
              "          const element = document.querySelector('#df-fc86884b-3b7f-4bea-80f1-d3178ba9df15');\n",
              "          const dataTable =\n",
              "            await google.colab.kernel.invokeFunction('convertToInteractive',\n",
              "                                                     [key], {});\n",
              "          if (!dataTable) return;\n",
              "\n",
              "          const docLinkHtml = 'Like what you see? Visit the ' +\n",
              "            '<a target=\"_blank\" href=https://colab.research.google.com/notebooks/data_table.ipynb>data table notebook</a>'\n",
              "            + ' to learn more about interactive tables.';\n",
              "          element.innerHTML = '';\n",
              "          dataTable['output_type'] = 'display_data';\n",
              "          await google.colab.output.renderOutput(dataTable, element);\n",
              "          const docLink = document.createElement('div');\n",
              "          docLink.innerHTML = docLinkHtml;\n",
              "          element.appendChild(docLink);\n",
              "        }\n",
              "      </script>\n",
              "    </div>\n",
              "  </div>\n",
              "  "
            ],
            "text/plain": [
              "     nomor                                               text     Label\n",
              "743   1640      sabar mungkin anak baru kita pantau saja dulu  Terkejut\n",
              "137   2966   kan tidak suka olahraga dia lebih suka olah kata   Gembira\n",
              "799   2693  insyalah pak anies presiden ri tahun dimampuka...  Terkejut\n",
              "933    685  intelek aku merusak jalan cuma gnti nma jl rs ...     Takut\n",
              "822   3182  mafia kelebihan bayar tuh brantas muka badak m...  Terkejut\n",
              "..     ...                                                ...       ...\n",
              "106   2278  katanya nga suka foto foto nga suka bawa orang...   Gembira\n",
              "270    376             pondok kobong kok belum dikunjungi pak     Sedih\n",
              "860     59                   dan enggak jujur ini yang bahaya     Takut\n",
              "435    956                               urus calon porno lho      Muak\n",
              "102   2215  jangan salah persepsi dulu pak anies memang ti...   Gembira\n",
              "\n",
              "[816 rows x 3 columns]"
            ]
          },
          "execution_count": 20,
          "metadata": {},
          "output_type": "execute_result"
        }
      ],
      "source": [
        "train_data"
      ]
    },
    {
      "cell_type": "code",
      "execution_count": null,
      "metadata": {
        "colab": {
          "base_uri": "https://localhost:8080/"
        },
        "id": "K10RoMqLYg8b",
        "outputId": "a334baea-b49d-4860-93da-d040a8c9a32c"
      },
      "outputs": [
        {
          "name": "stdout",
          "output_type": "stream",
          "text": [
            "Data shape:       nomor                                               text    Label\n",
            "0        61  lebih baik jadi rt dulu jadi lurah saja belum ...  Gembira\n",
            "1        91  setidaknya bapak anies tidak jadi presiden itu...  Gembira\n",
            "2       131  loh katanya enggak safari keliling katanya eng...  Gembira\n",
            "3       157  selama masih berguna buat rezim aman pak yang ...  Gembira\n",
            "4       194  nah begini dong jangan mau kalah sama sebelah ...  Gembira\n",
            "...     ...                                                ...      ...\n",
            "1015   1386  maju terus pak ganjar semangat anda memang leb...    Takut\n",
            "1016   1393  akibat trilyun masuk brangkas kejagung safari ...    Takut\n",
            "1017   1420  karena bagianya sudah berkurang makanya si tua...    Takut\n",
            "1018   1436  mesti dipahami cara membaca kalau bicara kanan...    Takut\n",
            "1019   1440  anies baswedan jangan ada pasalpasal larangan ...    Takut\n",
            "\n",
            "[1020 rows x 3 columns]\n",
            "Final total dataset: (1020, 3)\n"
          ]
        }
      ],
      "source": [
        "import pandas as pd\n",
        "import numpy as np\n",
        "import matplotlib.pyplot as plt\n",
        "\n",
        "#Train Data\n",
        "\n",
        "print(\"Data shape:\",df)\n",
        "\n",
        "Emosi1Df = df[df[\"Label\"]==\"Gembira\"].drop(\"Label\",axis=1)\n",
        "Emosi1Df[\"Label\"] = 0\n",
        "\n",
        "Emosi2Df = df[df[\"Label\"]==\"Sedih\"].drop(\"Label\",axis=1)\n",
        "Emosi2Df[\"Label\"] = 1\n",
        "\n",
        "Emosi3Df = df[df[\"Label\"]==\"Muak\"].drop(\"Label\",axis=1)\n",
        "Emosi3Df[\"Label\"] = 2\n",
        "\n",
        "Emosi4Df = df[df[\"Label\"]==\"Marah\"].drop(\"Label\",axis=1)\n",
        "Emosi4Df[\"Label\"] = 3\n",
        "\n",
        "Emosi5Df = df[df[\"Label\"]==\"Takut\"].drop(\"Label\",axis=1)\n",
        "Emosi5Df[\"Label\"] = 4\n",
        "\n",
        "Emosi6Df = df[df[\"Label\"]==\"Terkejut\"].drop(\"Label\",axis=1)\n",
        "Emosi6Df[\"Label\"] = 5\n",
        "\n",
        "df = pd.concat([Emosi1Df,Emosi2Df,Emosi3Df,Emosi4Df,Emosi5Df,Emosi6Df],ignore_index=True)\n",
        "print(\"Final total dataset:\",df.shape)"
      ]
    },
    {
      "cell_type": "code",
      "execution_count": null,
      "metadata": {
        "colab": {
          "base_uri": "https://localhost:8080/",
          "height": 423
        },
        "id": "LeN_xjWtYg-7",
        "outputId": "18766634-1d56-47f9-fd05-4899c6af32f2"
      },
      "outputs": [
        {
          "data": {
            "text/html": [
              "\n",
              "  <div id=\"df-b3f53e10-a0bb-4542-8c94-92d19b155c08\">\n",
              "    <div class=\"colab-df-container\">\n",
              "      <div>\n",
              "<style scoped>\n",
              "    .dataframe tbody tr th:only-of-type {\n",
              "        vertical-align: middle;\n",
              "    }\n",
              "\n",
              "    .dataframe tbody tr th {\n",
              "        vertical-align: top;\n",
              "    }\n",
              "\n",
              "    .dataframe thead th {\n",
              "        text-align: right;\n",
              "    }\n",
              "</style>\n",
              "<table border=\"1\" class=\"dataframe\">\n",
              "  <thead>\n",
              "    <tr style=\"text-align: right;\">\n",
              "      <th></th>\n",
              "      <th>nomor</th>\n",
              "      <th>text</th>\n",
              "      <th>Label</th>\n",
              "    </tr>\n",
              "  </thead>\n",
              "  <tbody>\n",
              "    <tr>\n",
              "      <th>743</th>\n",
              "      <td>1640</td>\n",
              "      <td>sabar mungkin anak baru kita pantau saja dulu</td>\n",
              "      <td>Terkejut</td>\n",
              "    </tr>\n",
              "    <tr>\n",
              "      <th>137</th>\n",
              "      <td>2966</td>\n",
              "      <td>kan tidak suka olahraga dia lebih suka olah kata</td>\n",
              "      <td>Gembira</td>\n",
              "    </tr>\n",
              "    <tr>\n",
              "      <th>799</th>\n",
              "      <td>2693</td>\n",
              "      <td>insyalah pak anies presiden ri tahun dimampuka...</td>\n",
              "      <td>Terkejut</td>\n",
              "    </tr>\n",
              "    <tr>\n",
              "      <th>933</th>\n",
              "      <td>685</td>\n",
              "      <td>intelek aku merusak jalan cuma gnti nma jl rs ...</td>\n",
              "      <td>Takut</td>\n",
              "    </tr>\n",
              "    <tr>\n",
              "      <th>822</th>\n",
              "      <td>3182</td>\n",
              "      <td>mafia kelebihan bayar tuh brantas muka badak m...</td>\n",
              "      <td>Terkejut</td>\n",
              "    </tr>\n",
              "    <tr>\n",
              "      <th>...</th>\n",
              "      <td>...</td>\n",
              "      <td>...</td>\n",
              "      <td>...</td>\n",
              "    </tr>\n",
              "    <tr>\n",
              "      <th>106</th>\n",
              "      <td>2278</td>\n",
              "      <td>katanya nga suka foto foto nga suka bawa orang...</td>\n",
              "      <td>Gembira</td>\n",
              "    </tr>\n",
              "    <tr>\n",
              "      <th>270</th>\n",
              "      <td>376</td>\n",
              "      <td>pondok kobong kok belum dikunjungi pak</td>\n",
              "      <td>Sedih</td>\n",
              "    </tr>\n",
              "    <tr>\n",
              "      <th>860</th>\n",
              "      <td>59</td>\n",
              "      <td>dan enggak jujur ini yang bahaya</td>\n",
              "      <td>Takut</td>\n",
              "    </tr>\n",
              "    <tr>\n",
              "      <th>435</th>\n",
              "      <td>956</td>\n",
              "      <td>urus calon porno lho</td>\n",
              "      <td>Muak</td>\n",
              "    </tr>\n",
              "    <tr>\n",
              "      <th>102</th>\n",
              "      <td>2215</td>\n",
              "      <td>jangan salah persepsi dulu pak anies memang ti...</td>\n",
              "      <td>Gembira</td>\n",
              "    </tr>\n",
              "  </tbody>\n",
              "</table>\n",
              "<p>816 rows × 3 columns</p>\n",
              "</div>\n",
              "      <button class=\"colab-df-convert\" onclick=\"convertToInteractive('df-b3f53e10-a0bb-4542-8c94-92d19b155c08')\"\n",
              "              title=\"Convert this dataframe to an interactive table.\"\n",
              "              style=\"display:none;\">\n",
              "        \n",
              "  <svg xmlns=\"http://www.w3.org/2000/svg\" height=\"24px\"viewBox=\"0 0 24 24\"\n",
              "       width=\"24px\">\n",
              "    <path d=\"M0 0h24v24H0V0z\" fill=\"none\"/>\n",
              "    <path d=\"M18.56 5.44l.94 2.06.94-2.06 2.06-.94-2.06-.94-.94-2.06-.94 2.06-2.06.94zm-11 1L8.5 8.5l.94-2.06 2.06-.94-2.06-.94L8.5 2.5l-.94 2.06-2.06.94zm10 10l.94 2.06.94-2.06 2.06-.94-2.06-.94-.94-2.06-.94 2.06-2.06.94z\"/><path d=\"M17.41 7.96l-1.37-1.37c-.4-.4-.92-.59-1.43-.59-.52 0-1.04.2-1.43.59L10.3 9.45l-7.72 7.72c-.78.78-.78 2.05 0 2.83L4 21.41c.39.39.9.59 1.41.59.51 0 1.02-.2 1.41-.59l7.78-7.78 2.81-2.81c.8-.78.8-2.07 0-2.86zM5.41 20L4 18.59l7.72-7.72 1.47 1.35L5.41 20z\"/>\n",
              "  </svg>\n",
              "      </button>\n",
              "      \n",
              "  <style>\n",
              "    .colab-df-container {\n",
              "      display:flex;\n",
              "      flex-wrap:wrap;\n",
              "      gap: 12px;\n",
              "    }\n",
              "\n",
              "    .colab-df-convert {\n",
              "      background-color: #E8F0FE;\n",
              "      border: none;\n",
              "      border-radius: 50%;\n",
              "      cursor: pointer;\n",
              "      display: none;\n",
              "      fill: #1967D2;\n",
              "      height: 32px;\n",
              "      padding: 0 0 0 0;\n",
              "      width: 32px;\n",
              "    }\n",
              "\n",
              "    .colab-df-convert:hover {\n",
              "      background-color: #E2EBFA;\n",
              "      box-shadow: 0px 1px 2px rgba(60, 64, 67, 0.3), 0px 1px 3px 1px rgba(60, 64, 67, 0.15);\n",
              "      fill: #174EA6;\n",
              "    }\n",
              "\n",
              "    [theme=dark] .colab-df-convert {\n",
              "      background-color: #3B4455;\n",
              "      fill: #D2E3FC;\n",
              "    }\n",
              "\n",
              "    [theme=dark] .colab-df-convert:hover {\n",
              "      background-color: #434B5C;\n",
              "      box-shadow: 0px 1px 3px 1px rgba(0, 0, 0, 0.15);\n",
              "      filter: drop-shadow(0px 1px 2px rgba(0, 0, 0, 0.3));\n",
              "      fill: #FFFFFF;\n",
              "    }\n",
              "  </style>\n",
              "\n",
              "      <script>\n",
              "        const buttonEl =\n",
              "          document.querySelector('#df-b3f53e10-a0bb-4542-8c94-92d19b155c08 button.colab-df-convert');\n",
              "        buttonEl.style.display =\n",
              "          google.colab.kernel.accessAllowed ? 'block' : 'none';\n",
              "\n",
              "        async function convertToInteractive(key) {\n",
              "          const element = document.querySelector('#df-b3f53e10-a0bb-4542-8c94-92d19b155c08');\n",
              "          const dataTable =\n",
              "            await google.colab.kernel.invokeFunction('convertToInteractive',\n",
              "                                                     [key], {});\n",
              "          if (!dataTable) return;\n",
              "\n",
              "          const docLinkHtml = 'Like what you see? Visit the ' +\n",
              "            '<a target=\"_blank\" href=https://colab.research.google.com/notebooks/data_table.ipynb>data table notebook</a>'\n",
              "            + ' to learn more about interactive tables.';\n",
              "          element.innerHTML = '';\n",
              "          dataTable['output_type'] = 'display_data';\n",
              "          await google.colab.output.renderOutput(dataTable, element);\n",
              "          const docLink = document.createElement('div');\n",
              "          docLink.innerHTML = docLinkHtml;\n",
              "          element.appendChild(docLink);\n",
              "        }\n",
              "      </script>\n",
              "    </div>\n",
              "  </div>\n",
              "  "
            ],
            "text/plain": [
              "     nomor                                               text     Label\n",
              "743   1640      sabar mungkin anak baru kita pantau saja dulu  Terkejut\n",
              "137   2966   kan tidak suka olahraga dia lebih suka olah kata   Gembira\n",
              "799   2693  insyalah pak anies presiden ri tahun dimampuka...  Terkejut\n",
              "933    685  intelek aku merusak jalan cuma gnti nma jl rs ...     Takut\n",
              "822   3182  mafia kelebihan bayar tuh brantas muka badak m...  Terkejut\n",
              "..     ...                                                ...       ...\n",
              "106   2278  katanya nga suka foto foto nga suka bawa orang...   Gembira\n",
              "270    376             pondok kobong kok belum dikunjungi pak     Sedih\n",
              "860     59                   dan enggak jujur ini yang bahaya     Takut\n",
              "435    956                               urus calon porno lho      Muak\n",
              "102   2215  jangan salah persepsi dulu pak anies memang ti...   Gembira\n",
              "\n",
              "[816 rows x 3 columns]"
            ]
          },
          "execution_count": 22,
          "metadata": {},
          "output_type": "execute_result"
        }
      ],
      "source": [
        "train_data"
      ]
    },
    {
      "cell_type": "code",
      "execution_count": null,
      "metadata": {
        "id": "DGW5GqHVYhBV"
      },
      "outputs": [],
      "source": [
        "# Simpan hasil ke file CSV\n",
        "df.to_csv('output.csv', index=False)"
      ]
    },
    {
      "cell_type": "code",
      "execution_count": null,
      "metadata": {
        "id": "x3wIaE_myQyi"
      },
      "outputs": [],
      "source": [
        "# Membaca file CSV\n",
        "df = pd.read_csv('output (1).csv')"
      ]
    },
    {
      "cell_type": "code",
      "execution_count": null,
      "metadata": {
        "colab": {
          "base_uri": "https://localhost:8080/"
        },
        "id": "VI8cWS2EYhDf",
        "outputId": "1297aa94-74d5-4b68-cf31-e57c2e717b0d"
      },
      "outputs": [
        {
          "name": "stdout",
          "output_type": "stream",
          "text": [
            "      nomor                                               text  Label\n",
            "0        61  [lebih, baik, jadi, rt, dulu, jadi, lurah, saj...      0\n",
            "1        91  [setidaknya, bapak, anies, tidak, jadi, presid...      0\n",
            "2       131  [loh, katanya, enggak, safari, keliling, katan...      0\n",
            "3       157  [selama, masih, berguna, buat, rezim, aman, pa...      0\n",
            "4       194  [nah, begini, dong, jangan, mau, kalah, sama, ...      0\n",
            "...     ...                                                ...    ...\n",
            "1015   3743  [memang, agak, berbeda, iya, bapak, ini, pemik...      5\n",
            "1016   3777  [kalau, jadi, presiden, kereta, cepat, akan, d...      5\n",
            "1017   3778  [apa, urusan, nya, cung, kamu, kacung, anies, ...      5\n",
            "1018   3794  [tunjukkan, saja, prestasi, junjungan, anda, oke]      5\n",
            "1019   3847         [tunjukkan, saja, prestasi, jagoanmu, oke]      5\n",
            "\n",
            "[1020 rows x 3 columns]\n"
          ]
        },
        {
          "name": "stderr",
          "output_type": "stream",
          "text": [
            "[nltk_data] Downloading package punkt to /root/nltk_data...\n",
            "[nltk_data]   Package punkt is already up-to-date!\n"
          ]
        }
      ],
      "source": [
        "import pandas as pd\n",
        "from nltk.tokenize import word_tokenize\n",
        "import nltk\n",
        "nltk.download('punkt')\n",
        "\n",
        "# Menggunakan tokenizer dari NLTK\n",
        "df['text'] = df['text'].apply(word_tokenize)\n",
        "\n",
        "# Menampilkan DataFrame dengan teks yang telah di-tokenisasi\n",
        "print(df)\n"
      ]
    },
    {
      "cell_type": "code",
      "execution_count": null,
      "metadata": {
        "id": "CH4XDuzSYhGw"
      },
      "outputs": [],
      "source": [
        "import gensim\n",
        "from tqdm import tqdm\n",
        "from sklearn.preprocessing import StandardScaler"
      ]
    },
    {
      "cell_type": "code",
      "execution_count": null,
      "metadata": {
        "id": "eP2k7EQTfuII"
      },
      "outputs": [],
      "source": [
        "import gensim\n",
        "from nltk.tokenize import word_tokenize\n",
        "\n",
        "# Assuming 'text' is the column containing the text data in your DataFrame\n",
        "list_of_sent = [word_tokenize(str(sent)) for sent in df[\"text\"]]\n",
        "w2v_model = gensim.models.Word2Vec(list_of_sent, min_count=4, vector_size=200, workers=4)#default CBOW\n",
        "w2v_words = list(w2v_model.wv.index_to_key)\n"
      ]
    },
    {
      "cell_type": "code",
      "execution_count": null,
      "metadata": {
        "colab": {
          "base_uri": "https://localhost:8080/"
        },
        "id": "8WNbg_n4ggfx",
        "outputId": "26cb9bd1-3402-46ed-9778-443ded8d1b61"
      },
      "outputs": [
        {
          "data": {
            "text/plain": [
              "748"
            ]
          },
          "execution_count": 27,
          "metadata": {},
          "output_type": "execute_result"
        }
      ],
      "source": [
        "len(w2v_words)"
      ]
    },
    {
      "cell_type": "code",
      "execution_count": null,
      "metadata": {
        "colab": {
          "base_uri": "https://localhost:8080/"
        },
        "id": "1YJMTH-mgjcH",
        "outputId": "df4ff8fc-88d6-44ac-80c8-79849233be53"
      },
      "outputs": [
        {
          "name": "stderr",
          "output_type": "stream",
          "text": [
            "100%|██████████| 1020/1020 [00:00<00:00, 3086.37it/s]"
          ]
        },
        {
          "name": "stdout",
          "output_type": "stream",
          "text": [
            "          0         1         2         3         4         5         6  \\\n",
            "0 -0.745346  0.123446 -1.035763  0.967208  0.505363  0.068321  0.923907   \n",
            "1 -0.269572  1.552338 -0.983961  0.952172  1.192849 -0.867638  0.911819   \n",
            "2  1.005912  0.230410  1.106520 -1.106061 -0.373501 -0.055775 -1.128654   \n",
            "3 -0.361089 -0.848083  0.192925 -0.166633 -1.213823  1.179395 -0.113318   \n",
            "4  1.425445  0.080684  1.538905 -1.554514 -0.121712 -0.389637 -1.585231   \n",
            "5 -0.691884 -0.040648 -0.521910  0.484226 -0.178191  0.400793  0.514063   \n",
            "6 -0.700715 -0.453401 -0.282916  0.253629 -0.831776  0.915379  0.353656   \n",
            "7 -1.587399  0.145882 -1.726047  1.732932  0.449817  0.343312  1.707902   \n",
            "8  0.691366 -0.501117  1.153441 -1.129125 -0.941201  0.402233 -1.023065   \n",
            "9 -1.654465 -0.739459 -1.547385  1.548170 -0.224612  0.896723  1.596969   \n",
            "\n",
            "          7         8         9  ...       191       192       193       194  \\\n",
            "0  0.965303 -0.894953 -0.177372  ... -1.055253 -0.878436 -0.935740  0.677605   \n",
            "1  1.165132 -0.826955  0.365218  ... -1.660784 -1.356660 -0.877488  1.579924   \n",
            "2 -1.174173  1.114080  0.413883  ...  0.981447  1.131399  1.142758 -1.033191   \n",
            "3 -0.372307 -0.023797 -0.999471  ...  0.994580  0.594803  0.075940 -1.089772   \n",
            "4 -1.566991  1.546313  0.837980  ...  1.193291  1.650458  1.563302 -0.960800   \n",
            "5  0.433970 -0.516158 -0.547615  ... -0.023715 -0.369150 -0.519237 -0.060538   \n",
            "6  0.113754 -0.379804 -0.837242  ...  0.470658  0.147178 -0.352040 -0.608252   \n",
            "7  1.661198 -1.697849 -0.739104  ... -1.221031 -1.585145 -1.670257  0.990133   \n",
            "8 -1.174655  0.931386 -0.229538  ...  1.186204  1.188129  1.041557 -1.121286   \n",
            "9  1.418705 -1.592824 -1.200123  ... -0.670494 -1.174994 -1.591821  0.380213   \n",
            "\n",
            "        195       196       197       198       199  Label  \n",
            "0  0.977569  0.973675 -0.965604 -0.989602 -0.534545      0  \n",
            "1  1.135752  1.158779 -1.407231 -1.284654 -1.388745      0  \n",
            "2 -1.318789 -1.204154  1.151389  1.258099  0.567882      0  \n",
            "3 -0.364190 -0.392230  0.665068  0.437907  1.237202      0  \n",
            "4 -1.620826 -1.524652  1.459055  1.609075  0.436064      0  \n",
            "5  0.396328  0.463027 -0.367332 -0.364637  0.175240      0  \n",
            "6  0.078109  0.104431  0.107476 -0.051455  0.821452      0  \n",
            "7  1.625340  1.643275 -1.554631 -1.650736 -0.517374      0  \n",
            "8 -1.184495 -1.257275  1.276840  1.130733  0.963375      0  \n",
            "9  1.426499  1.446415 -1.208135 -1.393259  0.128320      0  \n",
            "\n",
            "[10 rows x 201 columns]\n",
            "(1020, 201)\n"
          ]
        },
        {
          "name": "stderr",
          "output_type": "stream",
          "text": [
            "\n"
          ]
        }
      ],
      "source": [
        "#Vectorize train text data\n",
        "listof_sent_vec=[]\n",
        "for sent in tqdm(list_of_sent):\n",
        "    sent_vec = np.zeros(200)\n",
        "    cnt_words =0;\n",
        "    for word in sent:\n",
        "        if word in w2v_words:\n",
        "            vec = w2v_model.wv[word]\n",
        "            sent_vec += vec\n",
        "            cnt_words += 1\n",
        "    if cnt_words != 0:\n",
        "        sent_vec /= cnt_words\n",
        "    listof_sent_vec.append(sent_vec)\n",
        "\n",
        "Label = df[\"Label\"]\n",
        "list_col=tuple(range(200))\n",
        "Scaler = StandardScaler()\n",
        "data_vec = Scaler.fit_transform(listof_sent_vec)\n",
        "W2v_data=pd.DataFrame(data=data_vec, columns=list_col)\n",
        "W2v_data[\"Label\"] = Label\n",
        "print(W2v_data.head(10))\n",
        "print(W2v_data.shape)"
      ]
    },
    {
      "cell_type": "code",
      "execution_count": null,
      "metadata": {
        "colab": {
          "base_uri": "https://localhost:8080/"
        },
        "id": "QYAaDyDCgsm9",
        "outputId": "c3ec2b8f-e224-47b9-f294-a88a63d6abd7"
      },
      "outputs": [
        {
          "data": {
            "text/plain": [
              "array([[-0.74534638,  0.12344612, -1.03576319, ..., -0.96560377,\n",
              "        -0.98960194, -0.53454498],\n",
              "       [-0.26957228,  1.55233764, -0.9839606 , ..., -1.40723075,\n",
              "        -1.28465375, -1.38874518],\n",
              "       [ 1.00591208,  0.2304099 ,  1.10652026, ...,  1.15138947,\n",
              "         1.25809853,  0.56788173],\n",
              "       ...,\n",
              "       [-0.31188813, -0.42246179, -0.20598006, ..., -0.06095869,\n",
              "        -0.09689422,  0.32320183],\n",
              "       [ 0.92233021,  0.51019801,  0.79986966, ...,  0.43070875,\n",
              "         0.65368698, -0.6032653 ],\n",
              "       [ 1.21045091,  0.28382157,  1.14141009, ...,  0.77254174,\n",
              "         1.005964  , -0.44491624]])"
            ]
          },
          "execution_count": 29,
          "metadata": {},
          "output_type": "execute_result"
        }
      ],
      "source": [
        "\n",
        "X = W2v_data.drop(\"Label\",axis=1).to_numpy()\n",
        "X"
      ]
    },
    {
      "cell_type": "code",
      "execution_count": null,
      "metadata": {
        "colab": {
          "base_uri": "https://localhost:8080/"
        },
        "id": "d_Ua3slcgwyI",
        "outputId": "854df562-fe79-4dbd-c320-16a8dbf0cade"
      },
      "outputs": [
        {
          "data": {
            "text/plain": [
              "array([0, 0, 0, 0, 0])"
            ]
          },
          "execution_count": 30,
          "metadata": {},
          "output_type": "execute_result"
        }
      ],
      "source": [
        "y = W2v_data[\"Label\"].to_numpy()\n",
        "y[0:5]"
      ]
    },
    {
      "cell_type": "code",
      "execution_count": null,
      "metadata": {
        "colab": {
          "base_uri": "https://localhost:8080/"
        },
        "id": "tNbSJS2Wnb9s",
        "outputId": "b106622f-0554-455f-d3a2-1821f9f2f5b4"
      },
      "outputs": [
        {
          "name": "stdout",
          "output_type": "stream",
          "text": [
            "Looking in indexes: https://pypi.org/simple, https://us-python.pkg.dev/colab-wheels/public/simple/\n",
            "Requirement already satisfied: keras in /usr/local/lib/python3.10/dist-packages (2.12.0)\n",
            "Requirement already satisfied: tensorflow in /usr/local/lib/python3.10/dist-packages (2.12.0)\n",
            "Requirement already satisfied: absl-py>=1.0.0 in /usr/local/lib/python3.10/dist-packages (from tensorflow) (1.4.0)\n",
            "Requirement already satisfied: astunparse>=1.6.0 in /usr/local/lib/python3.10/dist-packages (from tensorflow) (1.6.3)\n",
            "Requirement already satisfied: flatbuffers>=2.0 in /usr/local/lib/python3.10/dist-packages (from tensorflow) (23.3.3)\n",
            "Requirement already satisfied: gast<=0.4.0,>=0.2.1 in /usr/local/lib/python3.10/dist-packages (from tensorflow) (0.4.0)\n",
            "Requirement already satisfied: google-pasta>=0.1.1 in /usr/local/lib/python3.10/dist-packages (from tensorflow) (0.2.0)\n",
            "Requirement already satisfied: grpcio<2.0,>=1.24.3 in /usr/local/lib/python3.10/dist-packages (from tensorflow) (1.54.0)\n",
            "Requirement already satisfied: h5py>=2.9.0 in /usr/local/lib/python3.10/dist-packages (from tensorflow) (3.8.0)\n",
            "Requirement already satisfied: jax>=0.3.15 in /usr/local/lib/python3.10/dist-packages (from tensorflow) (0.4.10)\n",
            "Requirement already satisfied: libclang>=13.0.0 in /usr/local/lib/python3.10/dist-packages (from tensorflow) (16.0.0)\n",
            "Requirement already satisfied: numpy<1.24,>=1.22 in /usr/local/lib/python3.10/dist-packages (from tensorflow) (1.22.4)\n",
            "Requirement already satisfied: opt-einsum>=2.3.2 in /usr/local/lib/python3.10/dist-packages (from tensorflow) (3.3.0)\n",
            "Requirement already satisfied: packaging in /usr/local/lib/python3.10/dist-packages (from tensorflow) (23.1)\n",
            "Requirement already satisfied: protobuf!=4.21.0,!=4.21.1,!=4.21.2,!=4.21.3,!=4.21.4,!=4.21.5,<5.0.0dev,>=3.20.3 in /usr/local/lib/python3.10/dist-packages (from tensorflow) (3.20.3)\n",
            "Requirement already satisfied: setuptools in /usr/local/lib/python3.10/dist-packages (from tensorflow) (67.7.2)\n",
            "Requirement already satisfied: six>=1.12.0 in /usr/local/lib/python3.10/dist-packages (from tensorflow) (1.16.0)\n",
            "Requirement already satisfied: tensorboard<2.13,>=2.12 in /usr/local/lib/python3.10/dist-packages (from tensorflow) (2.12.2)\n",
            "Requirement already satisfied: tensorflow-estimator<2.13,>=2.12.0 in /usr/local/lib/python3.10/dist-packages (from tensorflow) (2.12.0)\n",
            "Requirement already satisfied: termcolor>=1.1.0 in /usr/local/lib/python3.10/dist-packages (from tensorflow) (2.3.0)\n",
            "Requirement already satisfied: typing-extensions>=3.6.6 in /usr/local/lib/python3.10/dist-packages (from tensorflow) (4.5.0)\n",
            "Requirement already satisfied: wrapt<1.15,>=1.11.0 in /usr/local/lib/python3.10/dist-packages (from tensorflow) (1.14.1)\n",
            "Requirement already satisfied: tensorflow-io-gcs-filesystem>=0.23.1 in /usr/local/lib/python3.10/dist-packages (from tensorflow) (0.32.0)\n",
            "Requirement already satisfied: wheel<1.0,>=0.23.0 in /usr/local/lib/python3.10/dist-packages (from astunparse>=1.6.0->tensorflow) (0.40.0)\n",
            "Requirement already satisfied: ml-dtypes>=0.1.0 in /usr/local/lib/python3.10/dist-packages (from jax>=0.3.15->tensorflow) (0.1.0)\n",
            "Requirement already satisfied: scipy>=1.7 in /usr/local/lib/python3.10/dist-packages (from jax>=0.3.15->tensorflow) (1.10.1)\n",
            "Requirement already satisfied: google-auth<3,>=1.6.3 in /usr/local/lib/python3.10/dist-packages (from tensorboard<2.13,>=2.12->tensorflow) (2.17.3)\n",
            "Requirement already satisfied: google-auth-oauthlib<1.1,>=0.5 in /usr/local/lib/python3.10/dist-packages (from tensorboard<2.13,>=2.12->tensorflow) (1.0.0)\n",
            "Requirement already satisfied: markdown>=2.6.8 in /usr/local/lib/python3.10/dist-packages (from tensorboard<2.13,>=2.12->tensorflow) (3.4.3)\n",
            "Requirement already satisfied: requests<3,>=2.21.0 in /usr/local/lib/python3.10/dist-packages (from tensorboard<2.13,>=2.12->tensorflow) (2.27.1)\n",
            "Requirement already satisfied: tensorboard-data-server<0.8.0,>=0.7.0 in /usr/local/lib/python3.10/dist-packages (from tensorboard<2.13,>=2.12->tensorflow) (0.7.0)\n",
            "Requirement already satisfied: tensorboard-plugin-wit>=1.6.0 in /usr/local/lib/python3.10/dist-packages (from tensorboard<2.13,>=2.12->tensorflow) (1.8.1)\n",
            "Requirement already satisfied: werkzeug>=1.0.1 in /usr/local/lib/python3.10/dist-packages (from tensorboard<2.13,>=2.12->tensorflow) (2.3.0)\n",
            "Requirement already satisfied: cachetools<6.0,>=2.0.0 in /usr/local/lib/python3.10/dist-packages (from google-auth<3,>=1.6.3->tensorboard<2.13,>=2.12->tensorflow) (5.3.0)\n",
            "Requirement already satisfied: pyasn1-modules>=0.2.1 in /usr/local/lib/python3.10/dist-packages (from google-auth<3,>=1.6.3->tensorboard<2.13,>=2.12->tensorflow) (0.3.0)\n",
            "Requirement already satisfied: rsa<5,>=3.1.4 in /usr/local/lib/python3.10/dist-packages (from google-auth<3,>=1.6.3->tensorboard<2.13,>=2.12->tensorflow) (4.9)\n",
            "Requirement already satisfied: requests-oauthlib>=0.7.0 in /usr/local/lib/python3.10/dist-packages (from google-auth-oauthlib<1.1,>=0.5->tensorboard<2.13,>=2.12->tensorflow) (1.3.1)\n",
            "Requirement already satisfied: urllib3<1.27,>=1.21.1 in /usr/local/lib/python3.10/dist-packages (from requests<3,>=2.21.0->tensorboard<2.13,>=2.12->tensorflow) (1.26.15)\n",
            "Requirement already satisfied: certifi>=2017.4.17 in /usr/local/lib/python3.10/dist-packages (from requests<3,>=2.21.0->tensorboard<2.13,>=2.12->tensorflow) (2022.12.7)\n",
            "Requirement already satisfied: charset-normalizer~=2.0.0 in /usr/local/lib/python3.10/dist-packages (from requests<3,>=2.21.0->tensorboard<2.13,>=2.12->tensorflow) (2.0.12)\n",
            "Requirement already satisfied: idna<4,>=2.5 in /usr/local/lib/python3.10/dist-packages (from requests<3,>=2.21.0->tensorboard<2.13,>=2.12->tensorflow) (3.4)\n",
            "Requirement already satisfied: MarkupSafe>=2.1.1 in /usr/local/lib/python3.10/dist-packages (from werkzeug>=1.0.1->tensorboard<2.13,>=2.12->tensorflow) (2.1.2)\n",
            "Requirement already satisfied: pyasn1<0.6.0,>=0.4.6 in /usr/local/lib/python3.10/dist-packages (from pyasn1-modules>=0.2.1->google-auth<3,>=1.6.3->tensorboard<2.13,>=2.12->tensorflow) (0.5.0)\n",
            "Requirement already satisfied: oauthlib>=3.0.0 in /usr/local/lib/python3.10/dist-packages (from requests-oauthlib>=0.7.0->google-auth-oauthlib<1.1,>=0.5->tensorboard<2.13,>=2.12->tensorflow) (3.2.2)\n"
          ]
        }
      ],
      "source": [
        "pip install --upgrade keras tensorflow\n"
      ]
    },
    {
      "cell_type": "code",
      "execution_count": null,
      "metadata": {
        "id": "ACd6SrlXmyA8"
      },
      "outputs": [],
      "source": [
        "import numpy as np\n",
        "from sklearn.model_selection import train_test_split\n",
        "from keras.datasets import imdb\n",
        "\n",
        "#import the required library\n",
        "\n",
        "# Student will have to code here\n",
        "from keras.datasets import imdb\n",
        "from keras.models import Sequential\n",
        "from keras.layers import Dense,MaxPooling1D\n",
        "from keras.layers import LSTM, Flatten, Dropout, Conv1D\n",
        "from tensorflow.keras.layers import Embedding\n",
        "from keras.preprocessing import sequence\n",
        "import matplotlib.pyplot as plt\n",
        "import numpy as np\n",
        "from tensorflow.keras.datasets import imdb\n",
        "from tensorflow.keras.preprocessing import sequence\n",
        "from sklearn.model_selection import train_test_split\n",
        "\n",
        "import warnings\n",
        "warnings.filterwarnings('ignore')"
      ]
    },
    {
      "cell_type": "code",
      "execution_count": null,
      "metadata": {
        "colab": {
          "base_uri": "https://localhost:8080/"
        },
        "id": "c0VZ5uGUoWdi",
        "outputId": "6a3539c4-02d0-4ae8-fc7a-df95e35c4e22"
      },
      "outputs": [
        {
          "name": "stdout",
          "output_type": "stream",
          "text": [
            "Downloading data from https://storage.googleapis.com/tensorflow/tf-keras-datasets/imdb.npz\n",
            "17464789/17464789 [==============================] - 0s 0us/step\n"
          ]
        }
      ],
      "source": [
        "# load the dataset but only keep the top n words, zero the rest\n",
        "top_words = 10000\n",
        "(X_train, y_train), (X_test, y_test) = imdb.load_data(num_words=top_words)"
      ]
    },
    {
      "cell_type": "code",
      "execution_count": null,
      "metadata": {
        "id": "3WmSk7tnmySV"
      },
      "outputs": [],
      "source": [
        "\n",
        "\n",
        "import numpy as np\n",
        "\n",
        "np.load.__defaults__=(None, True, True, 'ASCII')\n",
        "\n",
        "# call load_data with allow_pickle implicitly set to true\n",
        "(X_train, y_train), (X_test, y_test) = imdb.load_data(num_words=10000)\n",
        "\n"
      ]
    },
    {
      "cell_type": "code",
      "execution_count": null,
      "metadata": {
        "colab": {
          "base_uri": "https://localhost:8080/"
        },
        "id": "u7qM93KXoqaJ",
        "outputId": "95a36d36-996b-48ef-df85-dd47fa224ad3"
      },
      "outputs": [
        {
          "name": "stdout",
          "output_type": "stream",
          "text": [
            "Shape of train data: (20000,)\n",
            "Shape of Test data: (25000,)\n",
            "Shape of CV data: (5000,)\n"
          ]
        }
      ],
      "source": [
        "X_train,X_cv,y_train,y_cv = train_test_split(X_train,y_train,test_size = 0.2)\n",
        "print(\"Shape of train data:\", X_train.shape)\n",
        "print(\"Shape of Test data:\", X_test.shape)\n",
        "print(\"Shape of CV data:\", X_cv.shape)"
      ]
    },
    {
      "cell_type": "code",
      "execution_count": null,
      "metadata": {
        "id": "jAK9xPpaoqdp"
      },
      "outputs": [],
      "source": [
        "max_review_length = 600\n",
        "X_train = sequence.pad_sequences(X_train, maxlen=max_review_length)\n",
        "X_test = sequence.pad_sequences(X_test, maxlen=max_review_length)\n",
        "X_cv = sequence.pad_sequences(X_cv, maxlen=max_review_length)\n"
      ]
    },
    {
      "cell_type": "code",
      "execution_count": null,
      "metadata": {
        "colab": {
          "base_uri": "https://localhost:8080/"
        },
        "id": "1CgUrD9Q1xwt",
        "outputId": "2315b332-47fa-4eca-b633-f3ddc9390094"
      },
      "outputs": [
        {
          "data": {
            "text/plain": [
              "array([1, 1, 1, 1, 1])"
            ]
          },
          "execution_count": 39,
          "metadata": {},
          "output_type": "execute_result"
        }
      ],
      "source": [
        "y_train[0:5]"
      ]
    },
    {
      "cell_type": "code",
      "execution_count": null,
      "metadata": {
        "colab": {
          "base_uri": "https://localhost:8080/"
        },
        "id": "xcM-QWwwmy4P",
        "outputId": "78cf511c-ed64-47fa-a348-7800a95c5d05"
      },
      "outputs": [
        {
          "name": "stdout",
          "output_type": "stream",
          "text": [
            "Downloading data from https://storage.googleapis.com/tensorflow/tf-keras-datasets/imdb_word_index.json\n",
            "1641221/1641221 [==============================] - 0s 0us/step\n",
            "# # # # # # # # # # # # # # # # # # # # # # # # # # # # # # # # # # # # # # # # # # # # # # # # # # # # # # # # # # # # # # # # # # # # # # # # # # # # # # # # # # # # # # # # # # # # # # # # # # # # # # # # # # # # # # # # # # # # # # # # # # # # # # # # # # # # # # # # # # # # # # # # # # # # # # # # # # # # # # # # # # # # # # # # # # # # # # # # # # # # # # # # # # # # # # # # # # # # # # # # # # # # # # # # # # # # # # # # # # # # # # # # # # # # # # # # # # # # # # # # # # # # # # # # # # # # # # # # # # # # # # # # # # # # # # # # # # # # # # # # # # # # # # # # # # # # # # # # # # # # # # # # # # # # # # # # # # # # # # # # # # # # # # # # # # # # # # # # # # # # # # # # # # # # # # # # # # # # # # # # # # # # # # # # # # # # # # # # # # # # # # # # # # # # # # # # # # # # # # # # # # # # # # # # # # # # # # # # # # # # # # # # # # # # # # # # # # # # # # # # # # # # # # # # # # # # # # # # # # # # # # # # # # # # # # # # # # # # # # # # # # # # # # # # i cried my heart out watching this movie i have never suffered from any eating disorder but i think this must be a very true picture br br alison # is excellent she expresses these feelings amazingly well my teenage years came back to me so vividly anyone who has gone through difficult times as a child or teenager will be able to relate to this movie i recommend you all to see it br br the music is great too i've now discovered diana # br br i'm also looking forward to seeing alison # in white # because i am positive she is perfectly suited for the role as #\n"
          ]
        }
      ],
      "source": [
        "# Decoding the data coded data of IMDB ( Data Understanding )\n",
        "index = imdb.get_word_index()\n",
        "reverse_index = dict([(value, key) for (key, value) in index.items()])\n",
        "decoded = \" \".join( [reverse_index.get(i - 3, \"#\") for i in X_train[0]] )\n",
        "print(decoded)"
      ]
    },
    {
      "cell_type": "code",
      "execution_count": null,
      "metadata": {
        "colab": {
          "background_save": true,
          "base_uri": "https://localhost:8080/"
        },
        "id": "_NglNIidmy7o",
        "outputId": "b0a597ae-ecd9-40d7-e224-c044046097d8"
      },
      "outputs": [
        {
          "name": "stdout",
          "output_type": "stream",
          "text": [
            "Model: \"sequential_3\"\n",
            "_________________________________________________________________\n",
            " Layer (type)                Output Shape              Param #   \n",
            "=================================================================\n",
            " embedding_3 (Embedding)     (None, 600, 32)           320000    \n",
            "                                                                 \n",
            " lstm_3 (LSTM)               (None, 100)               53200     \n",
            "                                                                 \n",
            " dense_3 (Dense)             (None, 1)                 101       \n",
            "                                                                 \n",
            "=================================================================\n",
            "Total params: 373,301\n",
            "Trainable params: 373,301\n",
            "Non-trainable params: 0\n",
            "_________________________________________________________________\n",
            "None\n",
            "Epoch 1/5\n",
            "313/313 [==============================] - 328s 1s/step - loss: 0.4813 - accuracy: 0.7583 - val_loss: 0.3393 - val_accuracy: 0.8572\n",
            "Epoch 2/5\n",
            "313/313 [==============================] - 338s 1s/step - loss: 0.3289 - accuracy: 0.8629 - val_loss: 0.3611 - val_accuracy: 0.8546\n",
            "Epoch 3/5\n",
            "313/313 [==============================] - 323s 1s/step - loss: 0.2518 - accuracy: 0.9045 - val_loss: 0.3497 - val_accuracy: 0.8626\n",
            "Epoch 4/5\n",
            "313/313 [==============================] - 332s 1s/step - loss: 0.1950 - accuracy: 0.9279 - val_loss: 0.3400 - val_accuracy: 0.8740\n",
            "Epoch 5/5\n",
            "313/313 [==============================] - 329s 1s/step - loss: 0.1417 - accuracy: 0.9517 - val_loss: 0.3614 - val_accuracy: 0.8642\n"
          ]
        }
      ],
      "source": [
        "import tensorflow as tf\n",
        "\n",
        "# Write the code for LSTM Based Classifcation\n",
        "# Embedding layer\n",
        "# LSTM Layer : You are free to choose the hyperparameters and the number of layers\n",
        "# Dense Layer\n",
        "\n",
        "# Students will be starting their code from here:\n",
        "embedding_vector_length = 32\n",
        "model = Sequential()\n",
        "model.add(Embedding(input_dim=top_words, output_dim=embedding_vector_length, input_length=max_review_length))\n",
        "model.add(LSTM(100))\n",
        "model.add(Dense(units=1, activation='sigmoid'))\n",
        "\n",
        "model.compile(loss='binary_crossentropy', optimizer='adam', metrics=['accuracy'])\n",
        "print(model.summary())\n",
        "\n",
        "# Change the number of epochs and the batch size depending on the RAM Size\n",
        "\n",
        "history = model.fit(X_train, y_train, epochs=5, batch_size=64,verbose = 1,validation_data=(X_cv,y_cv))"
      ]
    },
    {
      "cell_type": "code",
      "execution_count": null,
      "metadata": {
        "colab": {
          "background_save": true
        },
        "id": "LH5IcKhZpSM4",
        "outputId": "ad018711-12df-4fca-f459-6f12d62771f5"
      },
      "outputs": [
        {
          "data": {
            "image/png": "[encoded data removed]",
            "text/plain": [
              "<Figure size 640x480 with 1 Axes>"
            ]
          },
          "metadata": {},
          "output_type": "display_data"
        },
        {
          "data": {
            "image/png": "[encoded data removed]",
            "text/plain": [
              "<Figure size 640x480 with 1 Axes>"
            ]
          },
          "metadata": {},
          "output_type": "display_data"
        }
      ],
      "source": [
        "def show_train_history(train_history,train,validation):\n",
        "    plt.plot(train_history.history[train])\n",
        "    plt.plot(train_history.history[validation])\n",
        "    plt.title('Train History')\n",
        "    plt.ylabel(train)\n",
        "    plt.xlabel('Epoch')\n",
        "    plt.legend(['train', 'validation'], loc='upper left')\n",
        "    plt.show()\n",
        "\n",
        "show_train_history(history,'accuracy','val_accuracy')\n",
        "show_train_history(history,'loss','val_loss')"
      ]
    },
    {
      "cell_type": "code",
      "execution_count": null,
      "metadata": {
        "colab": {
          "background_save": true
        },
        "id": "NvTMPfODpSSt",
        "outputId": "a5d71910-5de5-4f5d-baed-232bf6a7e3f0"
      },
      "outputs": [
        {
          "name": "stdout",
          "output_type": "stream",
          "text": [
            "Training loss \t 14.619666337966919\n",
            "Training accuracy  94.89499926567078\n",
            "Validation loss  38.09919059276581\n",
            "Validation accuracy  86.61999702453613\n"
          ]
        }
      ],
      "source": [
        "print('Training loss \\t', history.history['loss'][-1]*100)\n",
        "print('Training accuracy ',  history.history['accuracy'][-1]*100)\n",
        "print('Validation loss ', history.history['val_loss'][-1]*100)\n",
        "print('Validation accuracy ',  history.history['val_accuracy'][-1]*100)"
      ]
    },
    {
      "cell_type": "code",
      "execution_count": null,
      "metadata": {
        "colab": {
          "background_save": true
        },
        "id": "ZbRefbaspSVg",
        "outputId": "c818c6b3-a671-4c0d-b246-8e8d7e2340af"
      },
      "outputs": [
        {
          "name": "stdout",
          "output_type": "stream",
          "text": [
            "782/782 [==============================] - 105s 134ms/step - loss: 0.3981 - accuracy: 0.8574\n",
            "Testing loss \t 39.81391489505768\n",
            "Testing accuracy  85.74399948120117\n"
          ]
        }
      ],
      "source": [
        "# Final evaluation of the model using test dataset\n",
        "# Students will be starting their code from here:\n",
        "scores = model.evaluate(X_test, y_test, verbose=1)\n",
        "print('Testing loss \\t', scores[0]*100)\n",
        "print('Testing accuracy ', scores[1]*100)"
      ]
    }
  ],
  "metadata": {
    "colab": {
      "provenance": []
    },
    "kernelspec": {
      "display_name": "Python 3",
      "name": "python3"
    },
    "language_info": {
      "name": "python"
    }
  },
  "nbformat": 4,
  "nbformat_minor": 0
}