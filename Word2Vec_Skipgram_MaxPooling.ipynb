{
  "cells": [
    {
      "cell_type": "code",
      "execution_count": null,
      "metadata": {
        "colab": {
          "base_uri": "https://localhost:8080/"
        },
        "id": "-0t3p3gbYaQG",
        "outputId": "b5f3fa24-6041-4387-a6ec-035d0cc5cca2"
      },
      "outputs": [
        {
          "output_type": "stream",
          "name": "stdout",
          "text": [
            "Requirement already satisfied: nltk in /usr/local/lib/python3.10/dist-packages (3.8.1)\n",
            "Requirement already satisfied: click in /usr/local/lib/python3.10/dist-packages (from nltk) (8.1.3)\n",
            "Requirement already satisfied: joblib in /usr/local/lib/python3.10/dist-packages (from nltk) (1.2.0)\n",
            "Requirement already satisfied: regex>=2021.8.3 in /usr/local/lib/python3.10/dist-packages (from nltk) (2022.10.31)\n",
            "Requirement already satisfied: tqdm in /usr/local/lib/python3.10/dist-packages (from nltk) (4.65.0)\n"
          ]
        }
      ],
      "source": [
        "pip install nltk"
      ]
    },
    {
      "cell_type": "code",
      "execution_count": null,
      "metadata": {
        "id": "W7_8yB6_Ycdx"
      },
      "outputs": [],
      "source": [
        "# pip install Sastrawi"
      ]
    },
    {
      "cell_type": "code",
      "source": [
        "import pandas as pd\n",
        "from sklearn.model_selection import train_test_split\n",
        "import gensim\n",
        "from tqdm import tqdm\n",
        "from sklearn.preprocessing import StandardScaler\n",
        "import pandas as pd\n",
        "import numpy as np\n",
        "import pandas as pd\n",
        "from nltk.tokenize import word_tokenize\n",
        "import nltk\n",
        "nltk.download('punkt')\n",
        "import gensim\n",
        "from nltk.tokenize import word_tokenize"
      ],
      "metadata": {
        "id": "IH-ykqXy0OIr",
        "colab": {
          "base_uri": "https://localhost:8080/"
        },
        "outputId": "b8cf554a-f54b-4ae7-f46d-8d76211f3791"
      },
      "execution_count": null,
      "outputs": [
        {
          "output_type": "stream",
          "name": "stderr",
          "text": [
            "[nltk_data] Downloading package punkt to /root/nltk_data...\n",
            "[nltk_data]   Package punkt is already up-to-date!\n"
          ]
        }
      ]
    },
    {
      "cell_type": "code",
      "execution_count": null,
      "metadata": {
        "id": "6X6y_T-9Ywg2"
      },
      "outputs": [],
      "source": [
        "import pandas as pd\n",
        "from sklearn.model_selection import train_test_split\n",
        "\n",
        "# Membaca file CSV\n",
        "df = pd.read_csv('Training_Testing_Data16444.csv')\n",
        "\n",
        "# # Membagi data menjadi data training dan data testing\n",
        "# train_data, test_data = train_test_split(df, test_size=0.2, random_state=42)\n",
        "# # test_size = 0.2 berarti 20% data akan digunakan untuk testing, sementara 80% digunakan untuk training\n",
        "# # random_state digunakan untuk mengacak data\n",
        "\n",
        "# # Menampilkan informasi jumlah data\n",
        "# print('Jumlah data training:', len(train_data))\n",
        "# print('Jumlah data testing:', len(test_data))\n"
      ]
    },
    {
      "cell_type": "code",
      "execution_count": null,
      "metadata": {
        "id": "eP2k7EQTfuII"
      },
      "outputs": [],
      "source": [
        "\n",
        "\n",
        "# Assuming 'text' is the column containing the text data in your DataFrame\n",
        "list_of_sent = [word_tokenize(str(sent)) for sent in df[\"text\"]]\n",
        "w2v_model = gensim.models.Word2Vec(list_of_sent,vector_size=200,window=3,min_count=2,sg=1,negative=10, ns_exponent=0.75, workers=4,epochs=10)#Skipgram sg=1\n",
        "w2v_words = list(w2v_model.wv.index_to_key)\n"
      ]
    },
    {
      "cell_type": "code",
      "source": [
        "# Save the Word2Vec model\n",
        "model_path = \"model_sg.bin\"  # Ganti dengan path tempat Anda ingin menyimpan model\n",
        "w2v_model.save(model_path)\n"
      ],
      "metadata": {
        "id": "OW9AFyW9TLAW"
      },
      "execution_count": null,
      "outputs": []
    },
    {
      "cell_type": "code",
      "execution_count": null,
      "metadata": {
        "colab": {
          "base_uri": "https://localhost:8080/"
        },
        "id": "8WNbg_n4ggfx",
        "outputId": "4321e343-da33-4db1-b2b0-0143a18b630d"
      },
      "outputs": [
        {
          "output_type": "execute_result",
          "data": {
            "text/plain": [
              "30955"
            ]
          },
          "metadata": {},
          "execution_count": 6
        }
      ],
      "source": [
        "len(w2v_words)"
      ]
    },
    {
      "cell_type": "code",
      "execution_count": null,
      "metadata": {
        "colab": {
          "base_uri": "https://localhost:8080/"
        },
        "id": "1YJMTH-mgjcH",
        "outputId": "a842d5ee-8e1d-48c0-a92c-b96d320c0c04"
      },
      "outputs": [
        {
          "output_type": "stream",
          "name": "stderr",
          "text": [
            "100%|██████████| 98664/98664 [02:26<00:00, 675.20it/s]\n"
          ]
        },
        {
          "output_type": "stream",
          "name": "stdout",
          "text": [
            "          0         1         2         3         4         5         6  \\\n",
            "0  1.293435 -1.247256  0.009623  0.815507 -0.127884 -0.990487  0.468917   \n",
            "1 -0.984829 -1.037118 -0.892208  0.275164  0.551669 -0.330967  0.101854   \n",
            "2 -0.683074  0.441134 -0.523767 -0.175304  0.329496  0.987917  0.439711   \n",
            "3  0.031288  0.763555  0.084006 -0.257184  1.361582  0.527291  0.060407   \n",
            "4  1.540451 -0.648128 -0.048173 -0.923565  0.288537 -1.135536  0.155227   \n",
            "5  0.686573  0.092792 -0.428800  0.111993  0.273192 -0.036783 -0.011707   \n",
            "6  0.410756  0.743531 -0.061966 -0.862918 -0.347539  0.951014 -0.194757   \n",
            "7  0.371722 -0.038283  1.498594 -1.321062  0.228851  0.009520 -0.404427   \n",
            "8  1.218631 -0.440142  0.175973 -1.173676 -0.870920 -0.555037 -0.912346   \n",
            "9 -1.245142 -0.507284 -1.009900  0.141591 -0.533414  0.840922  0.395104   \n",
            "\n",
            "          7         8         9  ...       191       192       193       194  \\\n",
            "0 -1.639398 -0.456038  0.669290  ...  1.270104 -0.679813 -0.178547 -0.852016   \n",
            "1 -0.462126 -0.684410 -2.146389  ... -0.117754 -0.287068  1.023199 -0.086702   \n",
            "2  0.428475  0.457772  0.282660  ...  0.712681  0.157039  0.299623  0.413465   \n",
            "3  0.226083 -0.947628 -0.160022  ... -0.853401 -0.079457  0.110903  1.348748   \n",
            "4  1.255775  0.243985 -0.365459  ... -1.215282 -0.738887 -0.252853  0.968242   \n",
            "5 -0.073198 -0.926466 -0.574109  ... -0.862600 -0.414088  1.718921 -0.161396   \n",
            "6  1.947715  2.079019 -1.217706  ...  1.726110  1.426458 -1.322088 -0.102523   \n",
            "7  0.859411 -0.192303 -0.587589  ...  0.295191 -0.326072  0.403911  1.866700   \n",
            "8  0.888326  0.847663 -3.057258  ... -1.268190 -0.173263 -0.545397 -1.443055   \n",
            "9 -0.110783  0.351236  1.265109  ... -0.225843  0.859283 -0.215858 -0.041286   \n",
            "\n",
            "        195       196       197       198       199  Label  \n",
            "0 -0.529913  0.632713  1.268086  0.044588  0.552617  Sedih  \n",
            "1 -2.215230 -0.542685 -0.209318  0.595446 -1.587561  Sedih  \n",
            "2  0.038545  0.305684 -0.164661 -0.152890 -0.504019  Sedih  \n",
            "3 -0.806605  0.061647 -0.912229 -0.726384  0.295892  Sedih  \n",
            "4  0.111025 -0.185157  0.487791  0.540952 -0.057042  Sedih  \n",
            "5 -0.565198 -0.381265  0.461312  0.601089  0.056810  Sedih  \n",
            "6 -0.588224 -1.214338 -0.177350  0.276550  0.787403  Sedih  \n",
            "7  0.447345 -0.799903 -0.974030  0.547329 -0.255709  Sedih  \n",
            "8 -0.666426  0.607677  0.176569  0.629150 -0.156217  Sedih  \n",
            "9 -0.589606 -1.656187  0.561539  0.560757 -0.746000  Sedih  \n",
            "\n",
            "[10 rows x 201 columns]\n",
            "(98664, 201)\n"
          ]
        }
      ],
      "source": [
        "#Vectorize train text data\n",
        "listof_sent_vec=[]\n",
        "for sent in tqdm(list_of_sent):\n",
        "    sent_vec = np.zeros(200)\n",
        "    cnt_words =0;\n",
        "    for word in sent:\n",
        "        if word in w2v_words:\n",
        "            vec = w2v_model.wv[word]\n",
        "            sent_vec += vec\n",
        "            cnt_words += 1\n",
        "    if cnt_words != 0:\n",
        "        sent_vec /= cnt_words\n",
        "    listof_sent_vec.append(sent_vec)\n",
        "\n",
        "Label = df[\"Label\"]\n",
        "list_col=tuple(range(200))\n",
        "Scaler = StandardScaler()\n",
        "data_vec = Scaler.fit_transform(listof_sent_vec)\n",
        "W2v_data=pd.DataFrame(data=data_vec, columns=list_col)\n",
        "W2v_data[\"Label\"] = Label\n",
        "print(W2v_data.head(10))\n",
        "print(W2v_data.shape)"
      ]
    },
    {
      "cell_type": "code",
      "execution_count": null,
      "metadata": {
        "colab": {
          "base_uri": "https://localhost:8080/"
        },
        "id": "QYAaDyDCgsm9",
        "outputId": "70e67094-aa3d-4811-ff3e-d41f81486e29"
      },
      "outputs": [
        {
          "output_type": "execute_result",
          "data": {
            "text/plain": [
              "array([[ 1.29343477, -1.24725585,  0.00962344, ...,  1.26808632,\n",
              "         0.04458822,  0.55261714],\n",
              "       [-0.98482856, -1.03711831, -0.89220798, ..., -0.20931771,\n",
              "         0.59544575, -1.5875614 ],\n",
              "       [-0.68307373,  0.4411345 , -0.52376701, ..., -0.16466085,\n",
              "        -0.15289001, -0.50401881],\n",
              "       ...,\n",
              "       [ 0.26758118, -0.34768673,  0.62487313, ..., -0.66293682,\n",
              "        -0.57801791,  0.01416974],\n",
              "       [ 0.3046665 ,  0.86803234,  0.93796405, ...,  0.451786  ,\n",
              "         0.01129745, -0.8943694 ],\n",
              "       [ 1.91361809,  0.81494416,  0.05047489, ..., -0.89672936,\n",
              "         0.60749   , -1.67769846]])"
            ]
          },
          "metadata": {},
          "execution_count": 8
        }
      ],
      "source": [
        "\n",
        "X = W2v_data.drop(\"Label\",axis=1).to_numpy()\n",
        "X"
      ]
    },
    {
      "cell_type": "code",
      "source": [
        "# Load the Word2Vec model\n",
        "from gensim.models import Word2Vec\n",
        "model_path = \"model_sg.bin\"  # Replace with the path where you saved the model\n",
        "w2v_model = Word2Vec.load(model_path)"
      ],
      "metadata": {
        "id": "7L0f-v9a_8NJ"
      },
      "execution_count": null,
      "outputs": []
    },
    {
      "cell_type": "code",
      "source": [
        "from sklearn.preprocessing import LabelEncoder\n",
        "\n",
        "# Assuming 'label' is the column containing the corresponding labels in your DataFrame\n",
        "labels = df['Label'].tolist()\n",
        "\n",
        "# Initialize label encoder\n",
        "label_encoder = LabelEncoder()\n",
        "\n",
        "# Encode labels to integers\n",
        "encoded_labels = label_encoder.fit_transform(labels)"
      ],
      "metadata": {
        "id": "DpqueXEtDwnx"
      },
      "execution_count": null,
      "outputs": []
    },
    {
      "cell_type": "code",
      "execution_count": null,
      "metadata": {
        "colab": {
          "base_uri": "https://localhost:8080/"
        },
        "id": "d_Ua3slcgwyI",
        "outputId": "684d7528-9f07-4e8a-e66b-4ee36ffd95ed"
      },
      "outputs": [
        {
          "output_type": "execute_result",
          "data": {
            "text/plain": [
              "array(['Sedih', 'Sedih', 'Sedih', 'Sedih', 'Sedih'], dtype=object)"
            ]
          },
          "metadata": {},
          "execution_count": 11
        }
      ],
      "source": [
        "y = W2v_data[\"Label\"].to_numpy()\n",
        "y[0:5]"
      ]
    },
    {
      "cell_type": "code",
      "execution_count": null,
      "metadata": {
        "colab": {
          "base_uri": "https://localhost:8080/"
        },
        "id": "tNbSJS2Wnb9s",
        "outputId": "b860aa8d-3d6e-4590-f30a-91e20863a339"
      },
      "outputs": [
        {
          "output_type": "stream",
          "name": "stdout",
          "text": [
            "Requirement already satisfied: keras in /usr/local/lib/python3.10/dist-packages (2.12.0)\n",
            "Collecting keras\n",
            "  Using cached keras-2.13.1-py3-none-any.whl (1.7 MB)\n",
            "Requirement already satisfied: tensorflow in /usr/local/lib/python3.10/dist-packages (2.12.0)\n",
            "Requirement already satisfied: absl-py>=1.0.0 in /usr/local/lib/python3.10/dist-packages (from tensorflow) (1.4.0)\n",
            "Requirement already satisfied: astunparse>=1.6.0 in /usr/local/lib/python3.10/dist-packages (from tensorflow) (1.6.3)\n",
            "Requirement already satisfied: flatbuffers>=2.0 in /usr/local/lib/python3.10/dist-packages (from tensorflow) (23.5.26)\n",
            "Requirement already satisfied: gast<=0.4.0,>=0.2.1 in /usr/local/lib/python3.10/dist-packages (from tensorflow) (0.4.0)\n",
            "Requirement already satisfied: google-pasta>=0.1.1 in /usr/local/lib/python3.10/dist-packages (from tensorflow) (0.2.0)\n",
            "Requirement already satisfied: grpcio<2.0,>=1.24.3 in /usr/local/lib/python3.10/dist-packages (from tensorflow) (1.56.0)\n",
            "Requirement already satisfied: h5py>=2.9.0 in /usr/local/lib/python3.10/dist-packages (from tensorflow) (3.8.0)\n",
            "Requirement already satisfied: jax>=0.3.15 in /usr/local/lib/python3.10/dist-packages (from tensorflow) (0.4.10)\n",
            "Requirement already satisfied: libclang>=13.0.0 in /usr/local/lib/python3.10/dist-packages (from tensorflow) (16.0.0)\n",
            "Requirement already satisfied: numpy<1.24,>=1.22 in /usr/local/lib/python3.10/dist-packages (from tensorflow) (1.22.4)\n",
            "Requirement already satisfied: opt-einsum>=2.3.2 in /usr/local/lib/python3.10/dist-packages (from tensorflow) (3.3.0)\n",
            "Requirement already satisfied: packaging in /usr/local/lib/python3.10/dist-packages (from tensorflow) (23.1)\n",
            "Requirement already satisfied: protobuf!=4.21.0,!=4.21.1,!=4.21.2,!=4.21.3,!=4.21.4,!=4.21.5,<5.0.0dev,>=3.20.3 in /usr/local/lib/python3.10/dist-packages (from tensorflow) (3.20.3)\n",
            "Requirement already satisfied: setuptools in /usr/local/lib/python3.10/dist-packages (from tensorflow) (67.7.2)\n",
            "Requirement already satisfied: six>=1.12.0 in /usr/local/lib/python3.10/dist-packages (from tensorflow) (1.16.0)\n",
            "Requirement already satisfied: tensorboard<2.13,>=2.12 in /usr/local/lib/python3.10/dist-packages (from tensorflow) (2.12.3)\n",
            "Requirement already satisfied: tensorflow-estimator<2.13,>=2.12.0 in /usr/local/lib/python3.10/dist-packages (from tensorflow) (2.12.0)\n",
            "Requirement already satisfied: termcolor>=1.1.0 in /usr/local/lib/python3.10/dist-packages (from tensorflow) (2.3.0)\n",
            "Requirement already satisfied: typing-extensions>=3.6.6 in /usr/local/lib/python3.10/dist-packages (from tensorflow) (4.6.3)\n",
            "Requirement already satisfied: wrapt<1.15,>=1.11.0 in /usr/local/lib/python3.10/dist-packages (from tensorflow) (1.14.1)\n",
            "Requirement already satisfied: tensorflow-io-gcs-filesystem>=0.23.1 in /usr/local/lib/python3.10/dist-packages (from tensorflow) (0.32.0)\n",
            "Requirement already satisfied: wheel<1.0,>=0.23.0 in /usr/local/lib/python3.10/dist-packages (from astunparse>=1.6.0->tensorflow) (0.40.0)\n",
            "Requirement already satisfied: ml-dtypes>=0.1.0 in /usr/local/lib/python3.10/dist-packages (from jax>=0.3.15->tensorflow) (0.2.0)\n",
            "Requirement already satisfied: scipy>=1.7 in /usr/local/lib/python3.10/dist-packages (from jax>=0.3.15->tensorflow) (1.10.1)\n",
            "Requirement already satisfied: google-auth<3,>=1.6.3 in /usr/local/lib/python3.10/dist-packages (from tensorboard<2.13,>=2.12->tensorflow) (2.17.3)\n",
            "Requirement already satisfied: google-auth-oauthlib<1.1,>=0.5 in /usr/local/lib/python3.10/dist-packages (from tensorboard<2.13,>=2.12->tensorflow) (1.0.0)\n",
            "Requirement already satisfied: markdown>=2.6.8 in /usr/local/lib/python3.10/dist-packages (from tensorboard<2.13,>=2.12->tensorflow) (3.4.3)\n",
            "Requirement already satisfied: requests<3,>=2.21.0 in /usr/local/lib/python3.10/dist-packages (from tensorboard<2.13,>=2.12->tensorflow) (2.27.1)\n",
            "Requirement already satisfied: tensorboard-data-server<0.8.0,>=0.7.0 in /usr/local/lib/python3.10/dist-packages (from tensorboard<2.13,>=2.12->tensorflow) (0.7.1)\n",
            "Requirement already satisfied: werkzeug>=1.0.1 in /usr/local/lib/python3.10/dist-packages (from tensorboard<2.13,>=2.12->tensorflow) (2.3.6)\n",
            "Requirement already satisfied: cachetools<6.0,>=2.0.0 in /usr/local/lib/python3.10/dist-packages (from google-auth<3,>=1.6.3->tensorboard<2.13,>=2.12->tensorflow) (5.3.1)\n",
            "Requirement already satisfied: pyasn1-modules>=0.2.1 in /usr/local/lib/python3.10/dist-packages (from google-auth<3,>=1.6.3->tensorboard<2.13,>=2.12->tensorflow) (0.3.0)\n",
            "Requirement already satisfied: rsa<5,>=3.1.4 in /usr/local/lib/python3.10/dist-packages (from google-auth<3,>=1.6.3->tensorboard<2.13,>=2.12->tensorflow) (4.9)\n",
            "Requirement already satisfied: requests-oauthlib>=0.7.0 in /usr/local/lib/python3.10/dist-packages (from google-auth-oauthlib<1.1,>=0.5->tensorboard<2.13,>=2.12->tensorflow) (1.3.1)\n",
            "Requirement already satisfied: urllib3<1.27,>=1.21.1 in /usr/local/lib/python3.10/dist-packages (from requests<3,>=2.21.0->tensorboard<2.13,>=2.12->tensorflow) (1.26.16)\n",
            "Requirement already satisfied: certifi>=2017.4.17 in /usr/local/lib/python3.10/dist-packages (from requests<3,>=2.21.0->tensorboard<2.13,>=2.12->tensorflow) (2023.5.7)\n",
            "Requirement already satisfied: charset-normalizer~=2.0.0 in /usr/local/lib/python3.10/dist-packages (from requests<3,>=2.21.0->tensorboard<2.13,>=2.12->tensorflow) (2.0.12)\n",
            "Requirement already satisfied: idna<4,>=2.5 in /usr/local/lib/python3.10/dist-packages (from requests<3,>=2.21.0->tensorboard<2.13,>=2.12->tensorflow) (3.4)\n",
            "Requirement already satisfied: MarkupSafe>=2.1.1 in /usr/local/lib/python3.10/dist-packages (from werkzeug>=1.0.1->tensorboard<2.13,>=2.12->tensorflow) (2.1.3)\n",
            "Requirement already satisfied: pyasn1<0.6.0,>=0.4.6 in /usr/local/lib/python3.10/dist-packages (from pyasn1-modules>=0.2.1->google-auth<3,>=1.6.3->tensorboard<2.13,>=2.12->tensorflow) (0.5.0)\n",
            "Requirement already satisfied: oauthlib>=3.0.0 in /usr/local/lib/python3.10/dist-packages (from requests-oauthlib>=0.7.0->google-auth-oauthlib<1.1,>=0.5->tensorboard<2.13,>=2.12->tensorflow) (3.2.2)\n"
          ]
        }
      ],
      "source": [
        "pip install --upgrade keras tensorflow\n"
      ]
    },
    {
      "cell_type": "code",
      "execution_count": null,
      "metadata": {
        "id": "ACd6SrlXmyA8"
      },
      "outputs": [],
      "source": [
        "import numpy as np\n",
        "from sklearn.model_selection import train_test_split\n",
        "from keras.datasets import imdb\n",
        "\n",
        "#import the required library\n",
        "\n",
        "from sklearn.preprocessing import LabelEncoder\n",
        "from keras.datasets import imdb\n",
        "from keras.models import Sequential\n",
        "from keras.layers import Dense,MaxPooling1D\n",
        "from keras.layers import LSTM, Flatten, Dropout, Conv1D, Input\n",
        "from tensorflow.keras.layers import Embedding\n",
        "from keras.preprocessing import sequence\n",
        "import matplotlib.pyplot as plt\n",
        "import numpy as np\n",
        "from tensorflow.keras.datasets import imdb\n",
        "from tensorflow.keras.preprocessing import sequence\n",
        "from sklearn.model_selection import train_test_split\n",
        "from tensorflow.keras.preprocessing.text import Tokenizer\n",
        "from tensorflow.keras.preprocessing import sequence\n",
        "from sklearn.model_selection import train_test_split\n",
        "from gensim.models import Word2Vec\n",
        "from nltk.tokenize import word_tokenize\n",
        "import numpy as np\n",
        "from tqdm import tqdm\n",
        "from sklearn.preprocessing import StandardScaler\n",
        "from tensorflow.keras.preprocessing.text import Tokenizer\n",
        "from tensorflow.keras.preprocessing.sequence import pad_sequences\n",
        "from sklearn.model_selection import train_test_split\n",
        "from gensim.models import Word2Vec\n",
        "from nltk.tokenize import word_tokenize\n",
        "import numpy as np\n",
        "from tqdm import tqdm\n",
        "from sklearn.preprocessing import StandardScaler\n",
        "\n",
        "import warnings\n",
        "warnings.filterwarnings('ignore')"
      ]
    },
    {
      "cell_type": "code",
      "source": [
        "# Assuming 'text' is the column containing the text data in your DataFrame\n",
        "texts = df['text'].tolist()\n",
        "\n",
        "# Initialize the tokenizer\n",
        "tokenizer = Tokenizer()\n",
        "\n",
        "# Fit the tokenizer on the texts\n",
        "tokenizer.fit_on_texts(texts)\n",
        "\n",
        "# Limit the tokenizer vocabulary to the top n words\n",
        "top_n = 10000  # Set the desired number of top words\n",
        "tokenizer.num_words = top_n\n",
        "\n",
        "# Convert texts to sequences of integers\n",
        "sequences = tokenizer.texts_to_sequences(texts)\n"
      ],
      "metadata": {
        "id": "8hQQGU0taX9w"
      },
      "execution_count": null,
      "outputs": []
    },
    {
      "cell_type": "code",
      "source": [
        "# Hitung panjang maksimum dari sequences\n",
        "max_length = max(len(seq) for seq in sequences)\n",
        "print(\"Maximum sequence length:\", max_length)\n"
      ],
      "metadata": {
        "colab": {
          "base_uri": "https://localhost:8080/"
        },
        "id": "R_dTHVEhdIvr",
        "outputId": "c5364624-e9b1-4ed1-ea70-6d87f6192e4a"
      },
      "execution_count": null,
      "outputs": [
        {
          "output_type": "stream",
          "name": "stdout",
          "text": [
            "Maximum sequence length: 250\n"
          ]
        }
      ]
    },
    {
      "cell_type": "code",
      "source": [
        "# Assuming 'label' is the column containing the corresponding labels in your DataFrame\n",
        "labels = df['Label'].tolist()\n",
        "\n",
        "# Pad sequences to a fixed length\n",
        "max_sequence_length = max_length  # Set the maximum sequence length based on the shape of X_train\n",
        "# Set the desired maximum sequence length\n",
        "padded_sequences = pad_sequences(sequences, maxlen=max_sequence_length)\n",
        "\n",
        "# Split the data into training, validation, and test sets\n",
        "X_train, X_test, y_train, y_test = train_test_split(padded_sequences, labels, test_size=0.25, random_state=42)\n",
        "\n",
        "# Split the training data further into training and validation sets\n",
        "X_train, X_val, y_train, y_val = train_test_split(X_train, y_train, test_size=0.2, random_state=42)\n",
        "\n",
        "# Print the vocabulary size\n",
        "vocab_size = min(top_n, len(tokenizer.word_index)) + 1\n",
        "print(\"Vocabulary size:\", vocab_size)\n"
      ],
      "metadata": {
        "colab": {
          "base_uri": "https://localhost:8080/"
        },
        "id": "B3XqARhze2VL",
        "outputId": "44ef133d-71be-485a-9fe3-fee5f4f2c498"
      },
      "execution_count": null,
      "outputs": [
        {
          "output_type": "stream",
          "name": "stdout",
          "text": [
            "Vocabulary size: 10001\n"
          ]
        }
      ]
    },
    {
      "cell_type": "code",
      "source": [
        "from keras.utils import to_categorical\n",
        "from sklearn.preprocessing import LabelEncoder\n",
        "\n",
        "# Convert labels to integers using LabelEncoder\n",
        "label_encoder = LabelEncoder()\n",
        "y_train_encoded = label_encoder.fit_transform(y_train)\n",
        "y_val_encoded = label_encoder.transform(y_val)\n",
        "y_test_encoded = label_encoder.transform(y_test)\n",
        "\n",
        "# Convert integer labels to one-hot encoding\n",
        "y_train_one_hot = to_categorical(y_train_encoded, num_classes=6)\n",
        "y_val_one_hot = to_categorical(y_val_encoded, num_classes=6)\n",
        "y_test_one_hot = to_categorical(y_test_encoded, num_classes=6)"
      ],
      "metadata": {
        "id": "_66NWx_MZeJY"
      },
      "execution_count": null,
      "outputs": []
    },
    {
      "cell_type": "code",
      "source": [],
      "metadata": {
        "colab": {
          "base_uri": "https://localhost:8080/"
        },
        "id": "PQiasDVcdNc6",
        "outputId": "3568bb17-d9a4-4cb0-b3e4-909873880ba2"
      },
      "execution_count": null,
      "outputs": [
        {
          "output_type": "stream",
          "name": "stderr",
          "text": [
            "IOPub data rate exceeded.\n",
            "The notebook server will temporarily stop sending output\n",
            "to the client in order to avoid crashing it.\n",
            "To change this limit, set the config variable\n",
            "`--NotebookApp.iopub_data_rate_limit`.\n",
            "\n",
            "Current values:\n",
            "NotebookApp.iopub_data_rate_limit=1000000.0 (bytes/sec)\n",
            "NotebookApp.rate_limit_window=3.0 (secs)\n",
            "\n"
          ]
        }
      ]
    },
    {
      "cell_type": "code",
      "execution_count": null,
      "metadata": {
        "colab": {
          "base_uri": "https://localhost:8080/"
        },
        "id": "u7qM93KXoqaJ",
        "outputId": "1ca4e635-c723-45b2-ac89-435d8ecfec88"
      },
      "outputs": [
        {
          "output_type": "stream",
          "name": "stdout",
          "text": [
            "Shape of train data: (59198, 250)\n",
            "Shape of Test data: (24666, 250)\n",
            "Shape of CV data: (14800, 250)\n"
          ]
        }
      ],
      "source": [
        "print(\"Shape of train data:\", X_train.shape)\n",
        "print(\"Shape of Test data:\", X_test.shape)\n",
        "print(\"Shape of CV data:\", X_val.shape)"
      ]
    },
    {
      "cell_type": "code",
      "source": [
        "# # Convert labels to categorical representation\n",
        "# label_encoder = LabelEncoder()\n",
        "# y_train = label_encoder.fit_transform(y_train)\n",
        "# y_val = label_encoder.transform(y_val)\n",
        "# y_test = label_encoder.transform(y_test)"
      ],
      "metadata": {
        "id": "w2t8sPXGunpX"
      },
      "execution_count": null,
      "outputs": []
    },
    {
      "cell_type": "code",
      "execution_count": null,
      "metadata": {
        "id": "jAK9xPpaoqdp"
      },
      "outputs": [],
      "source": [
        "max_review_length = 250\n",
        "X_train = sequence.pad_sequences(X_train, maxlen=max_review_length)\n",
        "X_test = sequence.pad_sequences(X_test, maxlen=max_review_length)\n",
        "X_cv = sequence.pad_sequences(X_val, maxlen=max_review_length)\n"
      ]
    },
    {
      "cell_type": "code",
      "source": [
        "y_train[0:5]"
      ],
      "metadata": {
        "colab": {
          "base_uri": "https://localhost:8080/"
        },
        "id": "1CgUrD9Q1xwt",
        "outputId": "c465fbe0-a5a2-444f-f1f1-6f816024ade1"
      },
      "execution_count": null,
      "outputs": [
        {
          "output_type": "execute_result",
          "data": {
            "text/plain": [
              "array([2, 5, 4, 4, 0])"
            ]
          },
          "metadata": {},
          "execution_count": 21
        }
      ]
    },
    {
      "cell_type": "code",
      "source": [
        "# decoded_texts = tokenizer.sequences_to_texts(sequences)\n",
        "# decoded_labels = np.array(labels)\n",
        "\n",
        "# # Print the decoded texts and labels\n",
        "# print(decoded_texts)\n",
        "# print(decoded_labels)\n"
      ],
      "metadata": {
        "id": "5kTWnTuvi_Nt"
      },
      "execution_count": null,
      "outputs": []
    },
    {
      "cell_type": "code",
      "source": [
        "from tensorflow.keras.layers import Embedding, Conv1D, MaxPooling1D, GlobalMaxPooling1D, concatenate, Dense, Dropout, Flatten, LSTM\n",
        "from tensorflow.keras.models import Model\n",
        "from tensorflow.keras.callbacks import EarlyStopping\n",
        "from tensorflow.keras.preprocessing import sequence\n",
        "import numpy as np\n",
        "from tensorflow.keras import regularizers\n",
        "import tensorflow as tf\n",
        "\n",
        "# Load the Word2Vec model\n",
        "model_path = \"model_sg.bin\"  # Replace with the path where you saved the model\n",
        "w2v_model = Word2Vec.load(model_path)\n",
        "\n",
        "# Get the word vectors\n",
        "word_vectors = w2v_model.wv\n",
        "\n",
        "# Create the embedding matrix\n",
        "embedding_vector_length = 200  # Adjust according to the dimension of the word vectors in your Word2Vec model\n",
        "embedding_matrix = np.zeros((vocab_size, embedding_vector_length))\n",
        "for word, index in tokenizer.word_index.items():\n",
        "    if index < vocab_size and word in word_vectors:\n",
        "        embedding_matrix[index] = word_vectors[word]"
      ],
      "metadata": {
        "id": "8n-BcyOupWHx"
      },
      "execution_count": null,
      "outputs": []
    },
    {
      "cell_type": "code",
      "source": [
        "# Define the model architecture\n",
        "input_layer = Input(shape=(max_sequence_length,))\n",
        "embedding_layer = Embedding(input_dim=vocab_size, output_dim=embedding_vector_length, weights=[embedding_matrix], input_length=max_sequence_length, trainable=False)(input_layer)\n",
        "\n",
        "# CNN Layers\n",
        "cnn_layer1 = Conv1D(128, kernel_size=3, activation='relu')(embedding_layer)\n",
        "cnn_layer1 = MaxPooling1D(pool_size=2)(cnn_layer1)\n",
        "cnn_layer2 = Conv1D(128, kernel_size=4, activation='relu')(embedding_layer)\n",
        "cnn_layer2 = MaxPooling1D(pool_size=2)(cnn_layer2)\n",
        "cnn_layer3 = Conv1D(128, kernel_size=5, activation='relu')(embedding_layer)\n",
        "cnn_layer3 = MaxPooling1D(pool_size=2)(cnn_layer3)\n",
        "cnn_layer1 = GlobalMaxPooling1D()(cnn_layer1)  # Adjusted\n",
        "cnn_layer2 = GlobalMaxPooling1D()(cnn_layer2)  # Adjusted\n",
        "cnn_layer3 = GlobalMaxPooling1D()(cnn_layer3)  # Adjusted\n",
        "cnn_layer = concatenate([cnn_layer1, cnn_layer2, cnn_layer3])\n",
        "cnn_layer = Dropout(0.5)(cnn_layer)\n",
        "cnn_layer = Dense(16, activation='relu', kernel_regularizer=regularizers.l2(0.01))(cnn_layer)\n",
        "cnn_layer = Dropout(0.5)(cnn_layer)\n",
        "\n",
        "# LSTM Layer\n",
        "lstm_layer = Embedding(input_dim=vocab_size, output_dim=embedding_vector_length, weights=[embedding_matrix], input_length=max_sequence_length, trainable=False)(input_layer)\n",
        "lstm_layer = LSTM(64)(lstm_layer)  # Modified to a single LSTM layer\n",
        "lstm_layer = Dropout(0.5)(lstm_layer)\n",
        "\n",
        "# Embedding Layer\n",
        "embedding_only_layer = Flatten()(embedding_layer)\n",
        "embedding_only_layer = Dropout(0.5)(embedding_only_layer)\n",
        "embedding_only_layer = Dense(128, activation='relu', kernel_regularizer=regularizers.l2(0.01))(embedding_only_layer)\n",
        "embedding_only_layer = Dropout(0.5)(embedding_only_layer)\n",
        "\n",
        "# Concatenate all layers\n",
        "merged_layer = concatenate([cnn_layer, lstm_layer, embedding_only_layer])\n",
        "merged_layer = Dropout(0.5)(merged_layer)\n",
        "output_layer = Dense(6, activation='softmax')(merged_layer)\n",
        "\n"
      ],
      "metadata": {
        "id": "1mQSQ7y_mY07"
      },
      "execution_count": null,
      "outputs": []
    },
    {
      "cell_type": "code",
      "source": [
        "# Create the model\n",
        "model = Model(inputs=input_layer, outputs=output_layer)\n",
        "\n",
        "# Create the optimizer\n",
        "optimizer = tf.keras.optimizers.Adam(learning_rate=0.001)\n",
        "\n",
        "# Compile the model with categorical crossentropy loss\n",
        "model.compile(loss='categorical_crossentropy', optimizer=optimizer, metrics=['accuracy'])\n",
        "print(model.summary())\n",
        "\n",
        "\n"
      ],
      "metadata": {
        "colab": {
          "base_uri": "https://localhost:8080/"
        },
        "id": "esSobgnGmfPe",
        "outputId": "39e0fbc2-f7bb-4514-a96c-fec48dd09860"
      },
      "execution_count": null,
      "outputs": [
        {
          "output_type": "stream",
          "name": "stdout",
          "text": [
            "Model: \"model\"\n",
            "__________________________________________________________________________________________________\n",
            " Layer (type)                   Output Shape         Param #     Connected to                     \n",
            "==================================================================================================\n",
            " input_1 (InputLayer)           [(None, 250)]        0           []                               \n",
            "                                                                                                  \n",
            " embedding (Embedding)          (None, 250, 200)     2000200     ['input_1[0][0]']                \n",
            "                                                                                                  \n",
            " conv1d (Conv1D)                (None, 248, 128)     76928       ['embedding[0][0]']              \n",
            "                                                                                                  \n",
            " conv1d_1 (Conv1D)              (None, 247, 128)     102528      ['embedding[0][0]']              \n",
            "                                                                                                  \n",
            " conv1d_2 (Conv1D)              (None, 246, 128)     128128      ['embedding[0][0]']              \n",
            "                                                                                                  \n",
            " max_pooling1d (MaxPooling1D)   (None, 124, 128)     0           ['conv1d[0][0]']                 \n",
            "                                                                                                  \n",
            " max_pooling1d_1 (MaxPooling1D)  (None, 123, 128)    0           ['conv1d_1[0][0]']               \n",
            "                                                                                                  \n",
            " max_pooling1d_2 (MaxPooling1D)  (None, 123, 128)    0           ['conv1d_2[0][0]']               \n",
            "                                                                                                  \n",
            " global_max_pooling1d (GlobalMa  (None, 128)         0           ['max_pooling1d[0][0]']          \n",
            " xPooling1D)                                                                                      \n",
            "                                                                                                  \n",
            " global_max_pooling1d_1 (Global  (None, 128)         0           ['max_pooling1d_1[0][0]']        \n",
            " MaxPooling1D)                                                                                    \n",
            "                                                                                                  \n",
            " global_max_pooling1d_2 (Global  (None, 128)         0           ['max_pooling1d_2[0][0]']        \n",
            " MaxPooling1D)                                                                                    \n",
            "                                                                                                  \n",
            " concatenate (Concatenate)      (None, 384)          0           ['global_max_pooling1d[0][0]',   \n",
            "                                                                  'global_max_pooling1d_1[0][0]', \n",
            "                                                                  'global_max_pooling1d_2[0][0]'] \n",
            "                                                                                                  \n",
            " flatten (Flatten)              (None, 50000)        0           ['embedding[0][0]']              \n",
            "                                                                                                  \n",
            " dropout (Dropout)              (None, 384)          0           ['concatenate[0][0]']            \n",
            "                                                                                                  \n",
            " embedding_1 (Embedding)        (None, 250, 200)     2000200     ['input_1[0][0]']                \n",
            "                                                                                                  \n",
            " dropout_3 (Dropout)            (None, 50000)        0           ['flatten[0][0]']                \n",
            "                                                                                                  \n",
            " dense (Dense)                  (None, 16)           6160        ['dropout[0][0]']                \n",
            "                                                                                                  \n",
            " lstm (LSTM)                    (None, 64)           67840       ['embedding_1[0][0]']            \n",
            "                                                                                                  \n",
            " dense_1 (Dense)                (None, 128)          6400128     ['dropout_3[0][0]']              \n",
            "                                                                                                  \n",
            " dropout_1 (Dropout)            (None, 16)           0           ['dense[0][0]']                  \n",
            "                                                                                                  \n",
            " dropout_2 (Dropout)            (None, 64)           0           ['lstm[0][0]']                   \n",
            "                                                                                                  \n",
            " dropout_4 (Dropout)            (None, 128)          0           ['dense_1[0][0]']                \n",
            "                                                                                                  \n",
            " concatenate_1 (Concatenate)    (None, 208)          0           ['dropout_1[0][0]',              \n",
            "                                                                  'dropout_2[0][0]',              \n",
            "                                                                  'dropout_4[0][0]']              \n",
            "                                                                                                  \n",
            " dropout_5 (Dropout)            (None, 208)          0           ['concatenate_1[0][0]']          \n",
            "                                                                                                  \n",
            " dense_2 (Dense)                (None, 6)            1254        ['dropout_5[0][0]']              \n",
            "                                                                                                  \n",
            "==================================================================================================\n",
            "Total params: 10,783,366\n",
            "Trainable params: 6,782,966\n",
            "Non-trainable params: 4,000,400\n",
            "__________________________________________________________________________________________________\n",
            "None\n"
          ]
        }
      ]
    },
    {
      "cell_type": "code",
      "source": [
        "# Split the data into training, validation, and test sets\n",
        "X_train, X_test, y_train, y_test = train_test_split(padded_sequences, labels, test_size=0.25, random_state=42)\n",
        "\n",
        "# Split the training data further into training and validation sets\n",
        "X_train, X_val, y_train, y_val = train_test_split(X_train, y_train, test_size=0.2, random_state=42)\n",
        "\n",
        "# Print the shapes of the data splits\n",
        "print(\"Shape of train data:\", X_train.shape)\n",
        "print(\"Shape of validation data:\", X_val.shape)\n",
        "print(\"Shape of test data:\", X_test.shape)\n",
        "print(\"Shape of train labels:\", len(y_train))\n",
        "print(\"Shape of validation labels:\", len(y_val))\n",
        "print(\"Shape of test labels:\", len(y_test))\n"
      ],
      "metadata": {
        "colab": {
          "base_uri": "https://localhost:8080/"
        },
        "id": "0prByyS1GEU7",
        "outputId": "ca94191f-6090-4d05-f858-e5c1ace86181"
      },
      "execution_count": null,
      "outputs": [
        {
          "output_type": "stream",
          "name": "stdout",
          "text": [
            "Shape of train data: (59198, 250)\n",
            "Shape of validation data: (14800, 250)\n",
            "Shape of test data: (24666, 250)\n",
            "Shape of train labels: 59198\n",
            "Shape of validation labels: 14800\n",
            "Shape of test labels: 24666\n"
          ]
        }
      ]
    },
    {
      "cell_type": "code",
      "source": [
        "decoded_texts = tokenizer.sequences_to_texts(sequences)\n",
        "decoded_labels = np.array(labels)\n",
        "\n",
        "# Print the decoded texts and labels\n",
        "print(decoded_texts)\n",
        "print(decoded_labels)\n"
      ],
      "metadata": {
        "colab": {
          "base_uri": "https://localhost:8080/"
        },
        "id": "PCiVJcshaFYa",
        "outputId": "a16c1a6d-5829-43f7-b321-726a3972965d"
      },
      "execution_count": null,
      "outputs": [
        {
          "output_type": "stream",
          "name": "stderr",
          "text": [
            "IOPub data rate exceeded.\n",
            "The notebook server will temporarily stop sending output\n",
            "to the client in order to avoid crashing it.\n",
            "To change this limit, set the config variable\n",
            "`--NotebookApp.iopub_data_rate_limit`.\n",
            "\n",
            "Current values:\n",
            "NotebookApp.iopub_data_rate_limit=1000000.0 (bytes/sec)\n",
            "NotebookApp.rate_limit_window=3.0 (secs)\n",
            "\n"
          ]
        }
      ]
    },
    {
      "cell_type": "code",
      "source": [
        "# Define early stopping\n",
        "early_stopping = EarlyStopping(monitor='val_loss', patience=3)\n",
        "\n",
        "batch_size = 64  # Increase the batch size if memory allows\n",
        "epochs = 100  # Increase the number of epochs\n",
        "# Train the model with early stopping\n",
        "history = model.fit(X_train, y_train_one_hot, batch_size=batch_size, epochs=epochs,\n",
        "                    validation_data=(X_val, y_val_one_hot), verbose=1,\n",
        "                    callbacks=[early_stopping])\n",
        "\n",
        "# Evaluate the model on training and test data\n",
        "train_loss, train_accuracy = model.evaluate(X_train, y_train_one_hot, verbose=0)\n",
        "test_loss, test_accuracy = model.evaluate(X_test, y_test_one_hot, verbose=0)\n",
        "print(f\"Train Loss: {train_loss:.4f}\")\n",
        "print(f\"Train Accuracy: {train_accuracy:.4f}\")\n",
        "print(f\"Test Loss: {test_loss:.4f}\")\n",
        "print(f\"Test Accuracy: {test_accuracy:.4f}\")\n"
      ],
      "metadata": {
        "colab": {
          "base_uri": "https://localhost:8080/"
        },
        "id": "kzyK1956VQWZ",
        "outputId": "c1d6ee5b-c81f-4eec-b588-bfb9dcf60b18"
      },
      "execution_count": null,
      "outputs": [
        {
          "output_type": "stream",
          "name": "stdout",
          "text": [
            "Epoch 1/100\n",
            "925/925 [==============================] - 925s 996ms/step - loss: 1.3178 - accuracy: 0.5925 - val_loss: 0.8319 - val_accuracy: 0.7325\n",
            "Epoch 2/100\n",
            "925/925 [==============================] - 903s 976ms/step - loss: 0.8212 - accuracy: 0.7307 - val_loss: 0.6425 - val_accuracy: 0.7776\n",
            "Epoch 3/100\n",
            "925/925 [==============================] - 913s 987ms/step - loss: 0.6879 - accuracy: 0.7670 - val_loss: 0.5769 - val_accuracy: 0.8005\n",
            "Epoch 4/100\n",
            "925/925 [==============================] - 918s 993ms/step - loss: 0.6245 - accuracy: 0.7843 - val_loss: 0.5223 - val_accuracy: 0.8133\n",
            "Epoch 5/100\n",
            "925/925 [==============================] - 913s 987ms/step - loss: 0.5832 - accuracy: 0.7992 - val_loss: 0.5029 - val_accuracy: 0.8215\n",
            "Epoch 6/100\n",
            "925/925 [==============================] - 900s 973ms/step - loss: 0.5567 - accuracy: 0.8082 - val_loss: 0.4763 - val_accuracy: 0.8295\n",
            "Epoch 7/100\n",
            "925/925 [==============================] - 915s 990ms/step - loss: 0.5315 - accuracy: 0.8153 - val_loss: 0.4655 - val_accuracy: 0.8316\n",
            "Epoch 8/100\n",
            "925/925 [==============================] - 906s 980ms/step - loss: 0.5120 - accuracy: 0.8237 - val_loss: 0.4587 - val_accuracy: 0.8341\n",
            "Epoch 9/100\n",
            "925/925 [==============================] - 917s 992ms/step - loss: 0.4950 - accuracy: 0.8280 - val_loss: 0.4441 - val_accuracy: 0.8357\n",
            "Epoch 10/100\n",
            "925/925 [==============================] - 916s 991ms/step - loss: 0.4823 - accuracy: 0.8331 - val_loss: 0.4368 - val_accuracy: 0.8406\n",
            "Epoch 11/100\n",
            "925/925 [==============================] - 919s 993ms/step - loss: 0.4715 - accuracy: 0.8363 - val_loss: 0.4380 - val_accuracy: 0.8405\n",
            "Epoch 12/100\n",
            "925/925 [==============================] - 917s 991ms/step - loss: 0.4550 - accuracy: 0.8426 - val_loss: 0.4207 - val_accuracy: 0.8466\n",
            "Epoch 13/100\n",
            "925/925 [==============================] - 916s 990ms/step - loss: 0.4423 - accuracy: 0.8441 - val_loss: 0.4221 - val_accuracy: 0.8449\n",
            "Epoch 14/100\n",
            "925/925 [==============================] - 914s 989ms/step - loss: 0.4372 - accuracy: 0.8461 - val_loss: 0.4181 - val_accuracy: 0.8477\n",
            "Epoch 15/100\n",
            "925/925 [==============================] - 914s 988ms/step - loss: 0.4296 - accuracy: 0.8480 - val_loss: 0.4137 - val_accuracy: 0.8499\n",
            "Epoch 16/100\n",
            "925/925 [==============================] - 914s 988ms/step - loss: 0.4156 - accuracy: 0.8539 - val_loss: 0.4129 - val_accuracy: 0.8493\n",
            "Epoch 17/100\n",
            "925/925 [==============================] - 902s 976ms/step - loss: 0.4087 - accuracy: 0.8548 - val_loss: 0.4072 - val_accuracy: 0.8514\n",
            "Epoch 18/100\n",
            "925/925 [==============================] - 916s 990ms/step - loss: 0.3989 - accuracy: 0.8594 - val_loss: 0.4302 - val_accuracy: 0.8476\n",
            "Epoch 19/100\n",
            "925/925 [==============================] - 912s 986ms/step - loss: 0.3906 - accuracy: 0.8620 - val_loss: 0.4026 - val_accuracy: 0.8538\n",
            "Epoch 20/100\n",
            "925/925 [==============================] - 924s 1000ms/step - loss: 0.3853 - accuracy: 0.8638 - val_loss: 0.4050 - val_accuracy: 0.8524\n",
            "Epoch 21/100\n",
            "925/925 [==============================] - 883s 955ms/step - loss: 0.3786 - accuracy: 0.8662 - val_loss: 0.4029 - val_accuracy: 0.8552\n",
            "Epoch 22/100\n",
            "925/925 [==============================] - 885s 957ms/step - loss: 0.3727 - accuracy: 0.8693 - val_loss: 0.4149 - val_accuracy: 0.8544\n",
            "Train Loss: 0.2781\n",
            "Train Accuracy: 0.8992\n",
            "Test Loss: 0.4245\n",
            "Test Accuracy: 0.8525\n"
          ]
        }
      ]
    },
    {
      "cell_type": "code",
      "source": [
        "from sklearn.preprocessing import LabelEncoder\n",
        "from tensorflow.keras.utils import to_categorical\n",
        "\n",
        "# Create a label encoder object\n",
        "label_encoder = LabelEncoder()\n",
        "\n",
        "# Encode the labels\n",
        "y_val_encoded = label_encoder.fit_transform(y_val)\n",
        "\n",
        "# Convert the encoded labels to one-hot encoding\n",
        "y_val_one_hot = to_categorical(y_val_encoded)\n",
        "\n",
        "# Check the shape of y_val_one_hot\n",
        "print(\"Shape of y_val_one_hot:\", y_val_one_hot.shape)\n",
        "\n",
        "# Evaluate the model\n",
        "val_loss, val_accuracy = model.evaluate(X_val, y_val_one_hot, verbose=0)\n",
        "print(f\"Validation Loss: {val_loss:.4f}\")\n",
        "print(f\"Validation Accuracy: {val_accuracy:.4f}\")\n"
      ],
      "metadata": {
        "colab": {
          "base_uri": "https://localhost:8080/"
        },
        "id": "a74JcHKWGxAR",
        "outputId": "e80d4c22-7ee4-415f-a40b-5d4d324a4bf0"
      },
      "execution_count": null,
      "outputs": [
        {
          "output_type": "stream",
          "name": "stdout",
          "text": [
            "Shape of y_val_one_hot: (14800, 6)\n",
            "Validation Loss: 0.4149\n",
            "Validation Accuracy: 0.8544\n"
          ]
        }
      ]
    },
    {
      "cell_type": "code",
      "source": [
        "import matplotlib.pyplot as plt\n",
        "\n",
        "# Retrieve training history\n",
        "train_accuracy = history.history['accuracy']\n",
        "val_accuracy = history.history['val_accuracy']\n",
        "\n",
        "# Plot accuracy curves\n",
        "epochs = range(1, len(train_accuracy) + 1)\n",
        "plt.plot(epochs, train_accuracy, 'bo-', label='Training Accuracy')\n",
        "plt.plot(epochs, val_accuracy, 'ro-', label='Validation Accuracy')\n",
        "plt.axhline(y=test_accuracy, color='g', linestyle='--', label='Test Accuracy')\n",
        "plt.title('Training, Validation, and Test Accuracy')\n",
        "plt.xlabel('Epochs')\n",
        "plt.ylabel('Accuracy')\n",
        "plt.legend()\n",
        "plt.show()"
      ],
      "metadata": {
        "colab": {
          "base_uri": "https://localhost:8080/",
          "height": 472
        },
        "id": "OjmwqeqPxkqN",
        "outputId": "cd9c3e9c-5a8c-4f9e-c6b7-179deddd88cf"
      },
      "execution_count": null,
      "outputs": [
        {
          "output_type": "display_data",
          "data": {
            "text/plain": [
              "<Figure size 640x480 with 1 Axes>"
            ],
            "image/png": "[encoded data removed]"
          },
          "metadata": {}
        }
      ]
    }
  ],
  "metadata": {
    "colab": {
      "provenance": []
    },
    "kernelspec": {
      "display_name": "Python 3",
      "name": "python3"
    },
    "language_info": {
      "name": "python"
    }
  },
  "nbformat": 4,
  "nbformat_minor": 0
}
