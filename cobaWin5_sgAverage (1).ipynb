{
  "nbformat": 4,
  "nbformat_minor": 0,
  "metadata": {
    "colab": {
      "provenance": []
    },
    "kernelspec": {
      "name": "python3",
      "display_name": "Python 3"
    },
    "language_info": {
      "name": "python"
    }
  },
  "cells": [
    {
      "cell_type": "code",
      "execution_count": null,
      "metadata": {
        "id": "ttxGG4AwiPeX"
      },
      "outputs": [],
      "source": [
        "import csv\n",
        "from gensim.models import FastText\n",
        "\n",
        "# Fungsi untuk membaca dataset dalam format CSV\n",
        "def read_csv_data(filename):\n",
        "    sentences = []\n",
        "    with open(filename, 'r') as file:\n",
        "        reader = csv.reader(file)\n",
        "        for row in reader:\n",
        "            sentences.append(row[0].split())\n",
        "    return sentences\n",
        "\n",
        "# Membaca dataset dari file CSV\n",
        "data_file = 'Training_Testing_Data16444.csv'\n",
        "sentences = read_csv_data(data_file)\n",
        "\n",
        "# Melatih model FastText dengan metode CBOW\n",
        "model = FastText(sentences, sg=1, window=5, min_count=2, workers=2, min_n=3, max_n=5)\n",
        "\n",
        "# Menyimpan model ke dalam file\n",
        "model_file = 'fasttext_model.bin'\n",
        "model.save(model_file)\n"
      ]
    },
    {
      "cell_type": "code",
      "source": [
        "# Meload model FastText yang telah disimpan\n",
        "model = FastText.load(model_file)\n",
        "\n",
        "# Mengambil vektor representasi kata\n",
        "word = 'anies'\n",
        "word_vector = model.wv[word]\n",
        "print(f\"Vektor representasi '{word}': {word_vector}\")\n"
      ],
      "metadata": {
        "colab": {
          "base_uri": "https://localhost:8080/"
        },
        "id": "h5dF1QP7i7Q_",
        "outputId": "2e983d82-2ca8-42c3-db3b-b754b6dba589"
      },
      "execution_count": null,
      "outputs": [
        {
          "output_type": "stream",
          "name": "stdout",
          "text": [
            "Vektor representasi 'anies': [-0.86202884 -0.3237267   0.5979446   0.65064305  0.6158966  -0.55945927\n",
            "  0.38160044  0.17379475 -0.3369219  -0.59221375 -0.47261825 -0.76942736\n",
            "  0.00827784 -0.341363   -0.26165894 -0.53073657  0.8933996  -0.01177962\n",
            " -0.2405884   0.04084529 -0.15483975 -0.7576117  -0.570836   -0.06870946\n",
            " -0.36144066  0.13067971 -0.15173993 -0.21350421 -0.2831071   0.78405386\n",
            " -0.02240013 -0.2896711   0.14202686 -0.01063326 -0.24538866  0.29068357\n",
            " -0.23549853 -0.50657195  0.15680514  0.0971636  -0.14739871 -0.05832376\n",
            "  0.09275801 -0.3608021   0.23494479 -0.21545982 -0.01865943  0.21938403\n",
            " -0.3852056   0.0431745  -0.06579136  0.06409144  0.3991709  -0.23235315\n",
            "  0.14606875 -0.02333824  0.20437458  0.08999148 -0.1799451  -0.3881599\n",
            " -0.05957504 -0.10750063 -0.12180462 -0.45556724  0.07741519  0.56190807\n",
            " -0.01602461  0.02464043  0.3225277   0.35591573  0.25654522  0.1485173\n",
            " -0.02809615 -0.10742108  0.6538995   0.35231784 -0.39996207 -0.13619094\n",
            " -0.12193434  0.59485996  0.04482554 -0.93228775  0.07352983 -0.17818561\n",
            " -0.47509333 -0.19279946  0.31629604 -0.31176397  0.11722195 -0.38238126\n",
            " -0.19991973  0.5551782   0.15847151 -0.37263042 -0.13759966  0.20285398\n",
            "  0.15751384 -0.03198115  0.09790093  0.67316794]\n"
          ]
        }
      ]
    },
    {
      "cell_type": "code",
      "source": [
        "import numpy as np\n",
        "from sklearn.model_selection import train_test_split\n",
        "\n",
        "#import the required library\n",
        "import pandas as pd\n",
        "\n",
        "from keras.utils import to_categorical\n",
        "import tensorflow as tf\n",
        "from tensorflow.keras.callbacks import EarlyStopping\n",
        "from sklearn.preprocessing import LabelEncoder\n",
        "from sklearn.preprocessing import LabelEncoder\n",
        "from keras.models import Sequential\n",
        "from keras.layers import Dense,MaxPooling1D\n",
        "from keras.layers import LSTM, Flatten, Dropout, Conv1D, Input\n",
        "from tensorflow.keras.layers import Embedding\n",
        "from keras.preprocessing import sequence\n",
        "import matplotlib.pyplot as plt\n",
        "import numpy as np\n",
        "from tensorflow.keras.datasets import imdb\n",
        "from tensorflow.keras.preprocessing import sequence\n",
        "from sklearn.model_selection import train_test_split\n",
        "from tensorflow.keras.preprocessing.text import Tokenizer\n",
        "from tensorflow.keras.preprocessing import sequence\n",
        "from sklearn.model_selection import train_test_split\n",
        "from gensim.models import Word2Vec\n",
        "from nltk.tokenize import word_tokenize\n",
        "from sklearn.preprocessing import StandardScaler\n",
        "from tensorflow.keras.preprocessing.text import Tokenizer\n",
        "from tensorflow.keras.preprocessing.sequence import pad_sequences\n",
        "from sklearn.model_selection import train_test_split\n",
        "from gensim.models import Word2Vec\n",
        "from nltk.tokenize import word_tokenize\n",
        "from sklearn.preprocessing import StandardScaler\n",
        "from tensorflow.keras.models import Model\n",
        "from tensorflow.keras.layers import Input, Dense, Embedding, Conv1D, AveragePooling1D, GlobalAveragePooling1D, Dropout, LSTM, concatenate\n",
        "from tensorflow.keras.utils import to_categorical\n",
        "from tensorflow.keras import regularizers"
      ],
      "metadata": {
        "id": "WdAJMjBxlO8A"
      },
      "execution_count": null,
      "outputs": []
    },
    {
      "cell_type": "code",
      "source": [
        "# Baca dataset tweet ke dalam DataFrame\n",
        "df = pd.read_csv('Training_Testing_Data16444.csv')\n",
        "\n",
        "# Preprocessing teks jika diperlukan\n",
        "df['text'] = df['text'].str.lower()\n",
        "\n",
        "# # Gabungkan label dan teks ke dalam satu kolom dengan format yang diperlukan\n",
        "# df['fasttext_input'] = '__label__' + df['Label'].astype(str) + ' ' + df['text']\n"
      ],
      "metadata": {
        "id": "InBrBf8vlAd4"
      },
      "execution_count": null,
      "outputs": []
    },
    {
      "cell_type": "code",
      "source": [
        "# Assuming 'text' is the column containing the text data in your DataFrame\n",
        "texts = df['text'].tolist()\n",
        "\n",
        "# Initialize the tokenizer\n",
        "tokenizer = Tokenizer()\n",
        "\n",
        "# Fit the tokenizer on the texts\n",
        "tokenizer.fit_on_texts(texts)\n",
        "\n",
        "# Limit the tokenizer vocabulary to the top n words\n",
        "top_n = 10000  # Set the desired number of top words\n",
        "tokenizer.num_words = top_n\n",
        "\n",
        "# Convert texts to sequences of integers\n",
        "sequences = tokenizer.texts_to_sequences(texts)\n"
      ],
      "metadata": {
        "id": "exoV_cruk2ji"
      },
      "execution_count": null,
      "outputs": []
    },
    {
      "cell_type": "code",
      "source": [
        "# Hitung panjang maksimum dari sequences\n",
        "max_length = max(len(seq) for seq in sequences)\n",
        "print(\"Maximum sequence length:\", max_length)\n"
      ],
      "metadata": {
        "colab": {
          "base_uri": "https://localhost:8080/"
        },
        "id": "P6yd3NHGlWVm",
        "outputId": "4a853ef8-9335-41b7-9985-c4e1cd972dbb"
      },
      "execution_count": null,
      "outputs": [
        {
          "output_type": "stream",
          "name": "stdout",
          "text": [
            "Maximum sequence length: 250\n"
          ]
        }
      ]
    },
    {
      "cell_type": "code",
      "source": [
        "# Assuming 'label' is the column containing the corresponding labels in your DataFrame\n",
        "labels = df['Label'].tolist()\n",
        "\n",
        "# Pad sequences to a fixed length\n",
        "max_sequence_length = max_length  # Set the maximum sequence length based on the shape of X_train\n",
        "# Set the desired maximum sequence length\n",
        "padded_sequences = pad_sequences(sequences, maxlen=max_sequence_length)\n",
        "\n",
        "# Split the data into training, validation, and test sets\n",
        "X_train, X_test, y_train, y_test = train_test_split(padded_sequences, labels, test_size=0.25, random_state=42)\n",
        "\n",
        "# Split the training data further into training and validation sets\n",
        "X_train, X_val, y_train, y_val = train_test_split(X_train, y_train, test_size=0.2, random_state=42)\n",
        "\n",
        "# Print the vocabulary size\n",
        "vocab_size = min(top_n, len(tokenizer.word_index)) + 1\n",
        "print(\"Vocabulary size:\", vocab_size)\n"
      ],
      "metadata": {
        "colab": {
          "base_uri": "https://localhost:8080/"
        },
        "id": "wug6dwJdlWZw",
        "outputId": "8de4310f-e7bb-4f52-925a-3099812b0458"
      },
      "execution_count": null,
      "outputs": [
        {
          "output_type": "stream",
          "name": "stdout",
          "text": [
            "Vocabulary size: 10001\n"
          ]
        }
      ]
    },
    {
      "cell_type": "code",
      "source": [
        "import numpy as np\n",
        "\n",
        "# Define a function to encode labels and handle unseen labels\n",
        "def encode_labels(labels, classes):\n",
        "    encoded_labels = np.zeros((len(labels), len(classes)))\n",
        "    for i, label in enumerate(labels):\n",
        "        if label in classes:\n",
        "            encoded_labels[i, classes.index(label)] = 1\n",
        "        else:\n",
        "            encoded_labels[i, 0] = 1  # Assign unseen labels to the first class\n",
        "    return encoded_labels\n",
        "\n",
        "# Define the classes based on the unique labels in the original label list\n",
        "classes = np.unique(labels).tolist()\n",
        "\n",
        "# Encode labels for training, validation, and test sets\n",
        "y_train = encode_labels(y_train, classes)\n",
        "y_val = encode_labels(y_val, classes)\n",
        "y_test = encode_labels(y_test, classes)\n"
      ],
      "metadata": {
        "id": "khy1dUkflY8t"
      },
      "execution_count": null,
      "outputs": []
    },
    {
      "cell_type": "code",
      "source": [
        "print(\"Shape of train data:\", X_train.shape)\n",
        "print(\"Shape of Test data:\", X_test.shape)\n",
        "print(\"Shape of CV data:\", X_val.shape)"
      ],
      "metadata": {
        "colab": {
          "base_uri": "https://localhost:8080/"
        },
        "id": "lAQL0mpylY_2",
        "outputId": "22465a6d-13be-4fc7-d8b3-bae82c968a91"
      },
      "execution_count": null,
      "outputs": [
        {
          "output_type": "stream",
          "name": "stdout",
          "text": [
            "Shape of train data: (59198, 250)\n",
            "Shape of Test data: (24666, 250)\n",
            "Shape of CV data: (14800, 250)\n"
          ]
        }
      ]
    },
    {
      "cell_type": "code",
      "source": [
        "import csv\n",
        "from gensim.models import FastText\n",
        "from tensorflow.keras.models import Model\n",
        "from tensorflow.keras.layers import Input, Dense, Embedding, Conv1D, AveragePooling1D, GlobalAveragePooling1D, Dropout, LSTM, concatenate, Flatten\n",
        "from tensorflow.keras import regularizers\n",
        "import numpy as np\n",
        "\n",
        "# Fungsi untuk membaca dataset dalam format CSV\n",
        "def read_csv_data(filename):\n",
        "    sentences = []\n",
        "    with open(filename, 'r') as file:\n",
        "        reader = csv.reader(file)\n",
        "        for row in reader:\n",
        "            sentences.append(row[0].split())\n",
        "    return sentences\n",
        "\n",
        "# Membaca dataset dari file CSV\n",
        "data_file = 'Training_Testing_Data16444.csv'\n",
        "sentences = read_csv_data(data_file)\n",
        "\n",
        "# Melatih model FastText dengan metode CBOW\n",
        "model = FastText(sentences, sg=1, window=5, min_count=2, workers=2, min_n=3, max_n=5)\n",
        "\n",
        "# Menyimpan model ke dalam file\n",
        "model_file = 'fasttext_model.bin'\n",
        "model.save(model_file)\n",
        "\n",
        "# Load the pre-trained FastText model\n",
        "fasttext_model = FastText.load(model_file)\n",
        "\n",
        "# Get the word vectors\n",
        "word_vectors = fasttext_model.wv.vectors\n",
        "\n",
        "# Create the embedding matrix\n",
        "vocab_size = word_vectors.shape[0]\n",
        "embedding_vector_length = word_vectors.shape[1]\n",
        "embedding_matrix = np.zeros((vocab_size, embedding_vector_length))\n",
        "word_index = {word: idx for idx, word in enumerate(fasttext_model.wv.index_to_key)}\n",
        "for word, index in word_index.items():\n",
        "    embedding_matrix[index] = word_vectors[index]\n",
        "\n",
        "# Define the model architecture\n",
        "max_sequence_length = 250\n",
        "input_layer = Input(shape=(max_sequence_length,))\n",
        "embedding_layer = Embedding(input_dim=vocab_size, output_dim=embedding_vector_length, weights=[embedding_matrix], input_length=max_sequence_length, trainable=False)(input_layer)\n",
        "\n",
        "# CNN Layers\n",
        "cnn_layer1 = Conv1D(128, kernel_size=3, activation='relu')(embedding_layer)\n",
        "cnn_layer1 = AveragePooling1D(pool_size=2)(cnn_layer1)\n",
        "cnn_layer2 = Conv1D(128, kernel_size=4, activation='relu')(embedding_layer)\n",
        "cnn_layer2 = AveragePooling1D(pool_size=2)(cnn_layer2)\n",
        "cnn_layer3 = Conv1D(128, kernel_size=5, activation='relu')(embedding_layer)\n",
        "cnn_layer3 = AveragePooling1D(pool_size=2)(cnn_layer3)\n",
        "cnn_layer1 = GlobalAveragePooling1D()(cnn_layer1)\n",
        "cnn_layer2 = GlobalAveragePooling1D()(cnn_layer2)\n",
        "cnn_layer3 = GlobalAveragePooling1D()(cnn_layer3)\n",
        "cnn_layer = concatenate([cnn_layer1, cnn_layer2, cnn_layer3])\n",
        "cnn_layer = Dropout(0.5)(cnn_layer)\n",
        "cnn_layer = Dense(16, activation='relu', kernel_regularizer=regularizers.l2(0.01))(cnn_layer)\n",
        "cnn_layer = Dropout(0.5)(cnn_layer)\n",
        "\n",
        "# LSTM Layer\n",
        "lstm_layer = LSTM(64)(embedding_layer)\n",
        "lstm_layer = Dropout(0.5)(lstm_layer)\n",
        "\n",
        "# Embedding Layer\n",
        "embedding_only_layer = Flatten()(embedding_layer)\n",
        "embedding_only_layer = Dropout(0.5)(embedding_only_layer)\n",
        "embedding_only_layer = Dense(128, activation='relu', kernel_regularizer=regularizers.l2(0.01))(embedding_only_layer)\n",
        "embedding_only_layer = Dropout(0.5)(embedding_only_layer)\n",
        "\n",
        "# Concatenate all layers\n",
        "merged_layer = concatenate([cnn_layer, lstm_layer, embedding_only_layer])\n",
        "merged_layer = Dropout(0.5)(merged_layer)\n",
        "output_layer = Dense(6, activation='softmax')(merged_layer)\n",
        "\n",
        "# Create the model\n",
        "model = Model(inputs=input_layer, outputs=output_layer)\n",
        "\n",
        "# Compile the model\n",
        "model.compile(loss='categorical_crossentropy', optimizer='adam', metrics=['accuracy'])\n",
        "print(model.summary())\n"
      ],
      "metadata": {
        "colab": {
          "base_uri": "https://localhost:8080/"
        },
        "id": "tRDd7S9qlcvr",
        "outputId": "096b6728-7761-4648-8fdd-01c69e8db870"
      },
      "execution_count": null,
      "outputs": [
        {
          "output_type": "stream",
          "name": "stdout",
          "text": [
            "Model: \"model\"\n",
            "__________________________________________________________________________________________________\n",
            " Layer (type)                   Output Shape         Param #     Connected to                     \n",
            "==================================================================================================\n",
            " input_1 (InputLayer)           [(None, 250)]        0           []                               \n",
            "                                                                                                  \n",
            " embedding (Embedding)          (None, 250, 100)     3095500     ['input_1[0][0]']                \n",
            "                                                                                                  \n",
            " conv1d (Conv1D)                (None, 248, 128)     38528       ['embedding[0][0]']              \n",
            "                                                                                                  \n",
            " conv1d_1 (Conv1D)              (None, 247, 128)     51328       ['embedding[0][0]']              \n",
            "                                                                                                  \n",
            " conv1d_2 (Conv1D)              (None, 246, 128)     64128       ['embedding[0][0]']              \n",
            "                                                                                                  \n",
            " average_pooling1d (AveragePool  (None, 124, 128)    0           ['conv1d[0][0]']                 \n",
            " ing1D)                                                                                           \n",
            "                                                                                                  \n",
            " average_pooling1d_1 (AveragePo  (None, 123, 128)    0           ['conv1d_1[0][0]']               \n",
            " oling1D)                                                                                         \n",
            "                                                                                                  \n",
            " average_pooling1d_2 (AveragePo  (None, 123, 128)    0           ['conv1d_2[0][0]']               \n",
            " oling1D)                                                                                         \n",
            "                                                                                                  \n",
            " global_average_pooling1d (Glob  (None, 128)         0           ['average_pooling1d[0][0]']      \n",
            " alAveragePooling1D)                                                                              \n",
            "                                                                                                  \n",
            " global_average_pooling1d_1 (Gl  (None, 128)         0           ['average_pooling1d_1[0][0]']    \n",
            " obalAveragePooling1D)                                                                            \n",
            "                                                                                                  \n",
            " global_average_pooling1d_2 (Gl  (None, 128)         0           ['average_pooling1d_2[0][0]']    \n",
            " obalAveragePooling1D)                                                                            \n",
            "                                                                                                  \n",
            " concatenate (Concatenate)      (None, 384)          0           ['global_average_pooling1d[0][0]'\n",
            "                                                                 , 'global_average_pooling1d_1[0][\n",
            "                                                                 0]',                             \n",
            "                                                                  'global_average_pooling1d_2[0][0\n",
            "                                                                 ]']                              \n",
            "                                                                                                  \n",
            " flatten (Flatten)              (None, 25000)        0           ['embedding[0][0]']              \n",
            "                                                                                                  \n",
            " dropout (Dropout)              (None, 384)          0           ['concatenate[0][0]']            \n",
            "                                                                                                  \n",
            " dropout_3 (Dropout)            (None, 25000)        0           ['flatten[0][0]']                \n",
            "                                                                                                  \n",
            " dense (Dense)                  (None, 16)           6160        ['dropout[0][0]']                \n",
            "                                                                                                  \n",
            " lstm (LSTM)                    (None, 64)           42240       ['embedding[0][0]']              \n",
            "                                                                                                  \n",
            " dense_1 (Dense)                (None, 128)          3200128     ['dropout_3[0][0]']              \n",
            "                                                                                                  \n",
            " dropout_1 (Dropout)            (None, 16)           0           ['dense[0][0]']                  \n",
            "                                                                                                  \n",
            " dropout_2 (Dropout)            (None, 64)           0           ['lstm[0][0]']                   \n",
            "                                                                                                  \n",
            " dropout_4 (Dropout)            (None, 128)          0           ['dense_1[0][0]']                \n",
            "                                                                                                  \n",
            " concatenate_1 (Concatenate)    (None, 208)          0           ['dropout_1[0][0]',              \n",
            "                                                                  'dropout_2[0][0]',              \n",
            "                                                                  'dropout_4[0][0]']              \n",
            "                                                                                                  \n",
            " dropout_5 (Dropout)            (None, 208)          0           ['concatenate_1[0][0]']          \n",
            "                                                                                                  \n",
            " dense_2 (Dense)                (None, 6)            1254        ['dropout_5[0][0]']              \n",
            "                                                                                                  \n",
            "==================================================================================================\n",
            "Total params: 6,499,266\n",
            "Trainable params: 3,403,766\n",
            "Non-trainable params: 3,095,500\n",
            "__________________________________________________________________________________________________\n",
            "None\n"
          ]
        }
      ]
    },
    {
      "cell_type": "code",
      "source": [
        "# Pad sequences to a fixed length\n",
        "max_sequence_length = max_length  # Set the maximum sequence length based on the shape of X_train\n",
        "# Set the desired maximum sequence length\n",
        "padded_sequences = pad_sequences(sequences, maxlen=max_sequence_length)\n",
        "# # Set the desired maximum sequence length\n",
        "padded_sequences = pad_sequences(sequences, maxlen=max_sequence_length)\n",
        "# Split the data into training, validation, and test sets\n",
        "X_train, X_test, y_train, y_test = train_test_split(padded_sequences, labels, test_size=0.25, random_state=42)\n",
        "\n",
        "# Split the training data further into training and validation sets\n",
        "X_train, X_val, y_train, y_val = train_test_split(X_train, y_train, test_size=0.2, random_state=42)\n",
        "\n",
        "# Print the shapes of the data splits\n",
        "print(\"Shape of train data:\", X_train.shape)\n",
        "print(\"Shape of validation data:\", X_val.shape)\n",
        "print(\"Shape of test data:\", X_test.shape)\n",
        "print(\"Shape of train labels:\", len(y_train))\n",
        "print(\"Shape of validation labels:\", len(y_val))\n",
        "print(\"Shape of test labels:\", len(y_test))\n",
        "\n",
        "from sklearn.preprocessing import LabelEncoder\n",
        "from tensorflow.keras.callbacks import EarlyStopping\n",
        "from tensorflow.keras.utils import to_categorical\n",
        "\n",
        "# Encode class labels with integers\n",
        "label_encoder = LabelEncoder()\n",
        "label_encoder.fit(labels)\n",
        "y_train_encoded = label_encoder.transform(y_train)\n",
        "y_val_encoded = label_encoder.transform(y_val)\n",
        "y_test_encoded = label_encoder.transform(y_test)\n",
        "\n",
        "# Convert labels to one-hot encoded format\n",
        "num_classes = len(label_encoder.classes_)\n",
        "y_train_encoded = to_categorical(y_train_encoded, num_classes)\n",
        "y_val_encoded = to_categorical(y_val_encoded, num_classes)\n",
        "y_test_encoded = to_categorical(y_test_encoded, num_classes)\n",
        "\n",
        "# Train the model with early stopping\n",
        "batch_size = 1024\n",
        "epochs = 100\n",
        "\n",
        "# Train the model with early stopping\n",
        "early_stopping = EarlyStopping(monitor='val_loss', patience=3)\n",
        "history = model.fit(X_train, y_train_encoded, batch_size=batch_size, epochs=epochs,\n",
        "                    validation_data=(X_val, y_val_encoded), verbose=1,\n",
        "                    callbacks=[early_stopping])\n",
        "\n",
        "# Evaluate the model on training, validation, and test data\n",
        "train_loss, train_accuracy = model.evaluate(X_train, y_train_encoded, verbose=0)\n",
        "val_loss, val_accuracy = model.evaluate(X_val, y_val_encoded, verbose=0)\n",
        "test_loss, test_accuracy = model.evaluate(X_test, y_test_encoded, verbose=0)\n",
        "print(f\"Train Loss: {train_loss:.4f}\")\n",
        "print(f\"Train Accuracy: {train_accuracy:.4f}\")\n",
        "print(f\"Validation Loss: {val_loss:.4f}\")\n",
        "print(f\"Validation Accuracy: {val_accuracy:.4f}\")\n",
        "print(f\"Test Loss: {test_loss:.4f}\")\n",
        "print(f\"Test Accuracy: {test_accuracy:.4f}\")\n"
      ],
      "metadata": {
        "colab": {
          "base_uri": "https://localhost:8080/"
        },
        "id": "gShhqcxalc0K",
        "outputId": "db411354-23c7-45a5-c0d6-8f4bd0dac9d9"
      },
      "execution_count": null,
      "outputs": [
        {
          "output_type": "stream",
          "name": "stdout",
          "text": [
            "Shape of train data: (59198, 250)\n",
            "Shape of validation data: (14800, 250)\n",
            "Shape of test data: (24666, 250)\n",
            "Shape of train labels: 59198\n",
            "Shape of validation labels: 14800\n",
            "Shape of test labels: 24666\n",
            "Epoch 1/100\n",
            "58/58 [==============================] - 430s 7s/step - loss: 3.0942 - accuracy: 0.1914 - val_loss: 2.2023 - val_accuracy: 0.2178\n",
            "Epoch 2/100\n",
            "58/58 [==============================] - 419s 7s/step - loss: 2.0390 - accuracy: 0.2437 - val_loss: 1.9162 - val_accuracy: 0.2912\n",
            "Epoch 3/100\n",
            "58/58 [==============================] - 413s 7s/step - loss: 1.8358 - accuracy: 0.2895 - val_loss: 1.7375 - val_accuracy: 0.3241\n",
            "Epoch 4/100\n",
            "58/58 [==============================] - 413s 7s/step - loss: 1.6954 - accuracy: 0.3226 - val_loss: 1.6162 - val_accuracy: 0.3574\n",
            "Epoch 5/100\n",
            "58/58 [==============================] - 420s 7s/step - loss: 1.6113 - accuracy: 0.3468 - val_loss: 1.5464 - val_accuracy: 0.3822\n",
            "Epoch 6/100\n",
            "58/58 [==============================] - 412s 7s/step - loss: 1.5522 - accuracy: 0.3731 - val_loss: 1.4958 - val_accuracy: 0.4039\n",
            "Epoch 7/100\n",
            "58/58 [==============================] - 414s 7s/step - loss: 1.5124 - accuracy: 0.3877 - val_loss: 1.4512 - val_accuracy: 0.4220\n",
            "Epoch 8/100\n",
            "58/58 [==============================] - 420s 7s/step - loss: 1.4786 - accuracy: 0.4052 - val_loss: 1.4145 - val_accuracy: 0.4431\n",
            "Epoch 9/100\n",
            "58/58 [==============================] - 415s 7s/step - loss: 1.4403 - accuracy: 0.4225 - val_loss: 1.3801 - val_accuracy: 0.4564\n",
            "Epoch 10/100\n",
            "58/58 [==============================] - 415s 7s/step - loss: 1.4169 - accuracy: 0.4370 - val_loss: 1.3498 - val_accuracy: 0.4680\n",
            "Epoch 11/100\n",
            "58/58 [==============================] - 415s 7s/step - loss: 1.3880 - accuracy: 0.4472 - val_loss: 1.3198 - val_accuracy: 0.4766\n",
            "Epoch 12/100\n",
            "58/58 [==============================] - 423s 7s/step - loss: 1.3668 - accuracy: 0.4578 - val_loss: 1.3030 - val_accuracy: 0.4843\n",
            "Epoch 13/100\n",
            "58/58 [==============================] - 415s 7s/step - loss: 1.3427 - accuracy: 0.4696 - val_loss: 1.2939 - val_accuracy: 0.4945\n",
            "Epoch 14/100\n",
            "58/58 [==============================] - 414s 7s/step - loss: 1.3348 - accuracy: 0.4712 - val_loss: 1.2604 - val_accuracy: 0.5056\n",
            "Epoch 15/100\n",
            "58/58 [==============================] - 413s 7s/step - loss: 1.3173 - accuracy: 0.4823 - val_loss: 1.2424 - val_accuracy: 0.5105\n",
            "Epoch 16/100\n",
            "58/58 [==============================] - 416s 7s/step - loss: 1.2923 - accuracy: 0.4934 - val_loss: 1.2261 - val_accuracy: 0.5238\n",
            "Epoch 17/100\n",
            "58/58 [==============================] - 417s 7s/step - loss: 1.2797 - accuracy: 0.4993 - val_loss: 1.2157 - val_accuracy: 0.5240\n",
            "Epoch 18/100\n",
            "58/58 [==============================] - 411s 7s/step - loss: 1.2716 - accuracy: 0.5034 - val_loss: 1.2034 - val_accuracy: 0.5323\n",
            "Epoch 19/100\n",
            "58/58 [==============================] - 413s 7s/step - loss: 1.2552 - accuracy: 0.5101 - val_loss: 1.1847 - val_accuracy: 0.5416\n",
            "Epoch 20/100\n",
            "58/58 [==============================] - 413s 7s/step - loss: 1.2375 - accuracy: 0.5195 - val_loss: 1.1673 - val_accuracy: 0.5519\n",
            "Epoch 21/100\n",
            "58/58 [==============================] - 412s 7s/step - loss: 1.2287 - accuracy: 0.5233 - val_loss: 1.1576 - val_accuracy: 0.5537\n",
            "Epoch 22/100\n",
            "58/58 [==============================] - 412s 7s/step - loss: 1.2165 - accuracy: 0.5281 - val_loss: 1.1489 - val_accuracy: 0.5548\n",
            "Epoch 23/100\n",
            "58/58 [==============================] - 412s 7s/step - loss: 1.2068 - accuracy: 0.5309 - val_loss: 1.1392 - val_accuracy: 0.5659\n",
            "Epoch 24/100\n",
            "58/58 [==============================] - 414s 7s/step - loss: 1.1976 - accuracy: 0.5381 - val_loss: 1.1346 - val_accuracy: 0.5631\n",
            "Epoch 25/100\n",
            "58/58 [==============================] - 414s 7s/step - loss: 1.1849 - accuracy: 0.5423 - val_loss: 1.1246 - val_accuracy: 0.5663\n",
            "Epoch 26/100\n",
            "58/58 [==============================] - 413s 7s/step - loss: 1.1826 - accuracy: 0.5444 - val_loss: 1.1173 - val_accuracy: 0.5743\n",
            "Epoch 27/100\n",
            "58/58 [==============================] - 414s 7s/step - loss: 1.1649 - accuracy: 0.5512 - val_loss: 1.1057 - val_accuracy: 0.5784\n",
            "Epoch 28/100\n",
            "58/58 [==============================] - 413s 7s/step - loss: 1.1643 - accuracy: 0.5521 - val_loss: 1.1121 - val_accuracy: 0.5736\n",
            "Epoch 29/100\n",
            "58/58 [==============================] - 412s 7s/step - loss: 1.1509 - accuracy: 0.5549 - val_loss: 1.0971 - val_accuracy: 0.5811\n",
            "Epoch 30/100\n",
            "58/58 [==============================] - 411s 7s/step - loss: 1.1465 - accuracy: 0.5607 - val_loss: 1.0849 - val_accuracy: 0.5849\n",
            "Epoch 31/100\n",
            "58/58 [==============================] - 414s 7s/step - loss: 1.1432 - accuracy: 0.5620 - val_loss: 1.0861 - val_accuracy: 0.5828\n",
            "Epoch 32/100\n",
            "58/58 [==============================] - 414s 7s/step - loss: 1.1269 - accuracy: 0.5673 - val_loss: 1.0719 - val_accuracy: 0.5927\n",
            "Epoch 33/100\n",
            "58/58 [==============================] - 412s 7s/step - loss: 1.1234 - accuracy: 0.5701 - val_loss: 1.0599 - val_accuracy: 0.5937\n",
            "Epoch 34/100\n",
            "58/58 [==============================] - 413s 7s/step - loss: 1.1190 - accuracy: 0.5726 - val_loss: 1.0573 - val_accuracy: 0.6002\n",
            "Epoch 35/100\n",
            "58/58 [==============================] - 412s 7s/step - loss: 1.1109 - accuracy: 0.5767 - val_loss: 1.0533 - val_accuracy: 0.6022\n",
            "Epoch 36/100\n",
            "58/58 [==============================] - 412s 7s/step - loss: 1.1005 - accuracy: 0.5808 - val_loss: 1.0429 - val_accuracy: 0.6064\n",
            "Epoch 37/100\n",
            "58/58 [==============================] - 412s 7s/step - loss: 1.0948 - accuracy: 0.5837 - val_loss: 1.0558 - val_accuracy: 0.5972\n",
            "Epoch 38/100\n",
            "58/58 [==============================] - 414s 7s/step - loss: 1.0912 - accuracy: 0.5863 - val_loss: 1.0304 - val_accuracy: 0.6080\n",
            "Epoch 39/100\n",
            "58/58 [==============================] - 422s 7s/step - loss: 1.0849 - accuracy: 0.5850 - val_loss: 1.0244 - val_accuracy: 0.6118\n",
            "Epoch 40/100\n",
            "58/58 [==============================] - 410s 7s/step - loss: 1.0802 - accuracy: 0.5891 - val_loss: 1.0204 - val_accuracy: 0.6134\n",
            "Epoch 41/100\n",
            "58/58 [==============================] - 409s 7s/step - loss: 1.0800 - accuracy: 0.5896 - val_loss: 1.0272 - val_accuracy: 0.6106\n",
            "Epoch 42/100\n",
            "58/58 [==============================] - 412s 7s/step - loss: 1.0709 - accuracy: 0.5955 - val_loss: 1.0289 - val_accuracy: 0.6111\n",
            "Epoch 43/100\n",
            "58/58 [==============================] - 413s 7s/step - loss: 1.0684 - accuracy: 0.5964 - val_loss: 1.0208 - val_accuracy: 0.6109\n",
            "Train Loss: 0.9753\n",
            "Train Accuracy: 0.6301\n",
            "Validation Loss: 1.0208\n",
            "Validation Accuracy: 0.6109\n",
            "Test Loss: 1.0389\n",
            "Test Accuracy: 0.6033\n"
          ]
        }
      ]
    },
    {
      "cell_type": "code",
      "source": [
        "import matplotlib.pyplot as plt\n",
        "\n",
        "# Retrieve training history\n",
        "train_accuracy = history.history['accuracy']\n",
        "val_accuracy = history.history['val_accuracy']\n",
        "\n",
        "# Plot accuracy curves\n",
        "epochs = range(1, len(train_accuracy) + 1)\n",
        "plt.plot(epochs, train_accuracy, 'bo-', label='Training Accuracy')\n",
        "plt.plot(epochs, val_accuracy, 'ro-', label='Validation Accuracy')\n",
        "plt.axhline(y=test_accuracy, color='g', linestyle='--', label='Test Accuracy')\n",
        "plt.title('Training, Validation, and Test Accuracy')\n",
        "plt.xlabel('Epochs')\n",
        "plt.ylabel('Accuracy')\n",
        "plt.legend()\n",
        "plt.show()"
      ],
      "metadata": {
        "colab": {
          "base_uri": "https://localhost:8080/",
          "height": 472
        },
        "id": "rAPEHQMM4s-o",
        "outputId": "9a278429-93a9-4e9e-9214-771b3c075de2"
      },
      "execution_count": null,
      "outputs": [
        {
          "output_type": "display_data",
          "data": {
            "text/plain": [
              "<Figure size 640x480 with 1 Axes>"
            ],
            "image/png": "[encoded data removed]"
          },
          "metadata": {}
        }
      ]
    },
    {
      "cell_type": "code",
      "source": [
        "import matplotlib.pyplot as plt\n",
        "\n",
        "# Retrieve training history\n",
        "train_loss = history.history['loss']\n",
        "val_loss = history.history['val_loss']\n",
        "\n",
        "# Plot accuracy curves\n",
        "epochs = range(1, len(train_loss) + 1)\n",
        "plt.plot(epochs, train_loss, 'bo-', label='Training loss')\n",
        "plt.plot(epochs, val_loss, 'ro-', label='Validation loss')\n",
        "plt.axhline(y=test_loss, color='g', linestyle='--', label='Test loss')\n",
        "plt.title('Training, Validation, and Test loss')\n",
        "plt.xlabel('Epochs')\n",
        "plt.ylabel('loss')\n",
        "plt.legend()\n",
        "plt.show()"
      ],
      "metadata": {
        "colab": {
          "base_uri": "https://localhost:8080/",
          "height": 472
        },
        "id": "an-tipsR5hWt",
        "outputId": "cd02b047-b6f8-447a-f185-69197dc4d00d"
      },
      "execution_count": null,
      "outputs": [
        {
          "output_type": "display_data",
          "data": {
            "text/plain": [
              "<Figure size 640x480 with 1 Axes>"
            ],
            "image/png": "[encoded data removed]"
          },
          "metadata": {}
        }
      ]
    },
    {
      "cell_type": "code",
      "source": [
        "import matplotlib.pyplot as plt\n",
        "\n",
        "# Ambil data akurasi pelatihan, validasi, dan testing dari history\n",
        "epochs = range(1, len(history.history['accuracy']) + 1)\n",
        "train_accuracy = history.history['accuracy']\n",
        "val_accuracy = history.history['val_accuracy']\n",
        "test_accuracy = history.history['test_accuracy']\n",
        "\n",
        "# Plot grafik akurasi pelatihan, validasi, dan testing\n",
        "plt.plot(epochs, train_accuracy, 'b', label='Training Accuracy')\n",
        "plt.plot(epochs, val_accuracy, 'r', label='Validation Accuracy')\n",
        "plt.plot(epochs, test_accuracy, 'g', label='Testing Accuracy')\n",
        "plt.title('Training, Validation, and Testing Accuracy')\n",
        "plt.xlabel('Epochs')\n",
        "plt.ylabel('Accuracy')\n",
        "plt.legend()\n",
        "plt.grid(True)\n",
        "plt.show()\n"
      ],
      "metadata": {
        "colab": {
          "base_uri": "https://localhost:8080/",
          "height": 244
        },
        "id": "fDf_97gjacjq",
        "outputId": "c24d7b31-4b7a-47b4-9db7-0fcc42e66104"
      },
      "execution_count": null,
      "outputs": [
        {
          "output_type": "error",
          "ename": "KeyError",
          "evalue": "ignored",
          "traceback": [
            "\u001b[0;31m---------------------------------------------------------------------------\u001b[0m",
            "\u001b[0;31mKeyError\u001b[0m                                  Traceback (most recent call last)",
            "\u001b[0;32m<ipython-input-15-2de1bb687fe0>\u001b[0m in \u001b[0;36m<cell line: 7>\u001b[0;34m()\u001b[0m\n\u001b[1;32m      5\u001b[0m \u001b[0mtrain_accuracy\u001b[0m \u001b[0;34m=\u001b[0m \u001b[0mhistory\u001b[0m\u001b[0;34m.\u001b[0m\u001b[0mhistory\u001b[0m\u001b[0;34m[\u001b[0m\u001b[0;34m'accuracy'\u001b[0m\u001b[0;34m]\u001b[0m\u001b[0;34m\u001b[0m\u001b[0;34m\u001b[0m\u001b[0m\n\u001b[1;32m      6\u001b[0m \u001b[0mval_accuracy\u001b[0m \u001b[0;34m=\u001b[0m \u001b[0mhistory\u001b[0m\u001b[0;34m.\u001b[0m\u001b[0mhistory\u001b[0m\u001b[0;34m[\u001b[0m\u001b[0;34m'val_accuracy'\u001b[0m\u001b[0;34m]\u001b[0m\u001b[0;34m\u001b[0m\u001b[0;34m\u001b[0m\u001b[0m\n\u001b[0;32m----> 7\u001b[0;31m \u001b[0mtest_accuracy\u001b[0m \u001b[0;34m=\u001b[0m \u001b[0mhistory\u001b[0m\u001b[0;34m.\u001b[0m\u001b[0mhistory\u001b[0m\u001b[0;34m[\u001b[0m\u001b[0;34m'test_accuracy'\u001b[0m\u001b[0;34m]\u001b[0m\u001b[0;34m\u001b[0m\u001b[0;34m\u001b[0m\u001b[0m\n\u001b[0m\u001b[1;32m      8\u001b[0m \u001b[0;34m\u001b[0m\u001b[0m\n\u001b[1;32m      9\u001b[0m \u001b[0;31m# Plot grafik akurasi pelatihan, validasi, dan testing\u001b[0m\u001b[0;34m\u001b[0m\u001b[0;34m\u001b[0m\u001b[0m\n",
            "\u001b[0;31mKeyError\u001b[0m: 'test_accuracy'"
          ]
        }
      ]
    }
  ]
}